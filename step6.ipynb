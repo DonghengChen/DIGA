{
 "cells": [
  {
   "cell_type": "markdown",
   "metadata": {},
   "source": [
    "读取数据集，清洗，生成提示词"
   ]
  },
  {
   "cell_type": "code",
   "execution_count": 1,
   "metadata": {},
   "outputs": [],
   "source": [
    "import json\n",
    "with open('new_dataset/1201train.json','r') as f:\n",
    "    train_data = json.load(f)"
   ]
  },
  {
   "cell_type": "code",
   "execution_count": 7,
   "metadata": {},
   "outputs": [
    {
     "name": "stdout",
     "output_type": "stream",
     "text": [
      "theorem mathd_algebra_13 (a b : ℝ)\n",
      "  (h₀ : ∀ x, x - 3 ≠ 0 ∧ x - 5 ≠ 0 → 4 * x / (x ^ 2 - 8 * x + 15) = a / (x - 3) + b / (x - 5)) :\n",
      "  a = -6 ∧ b = 10 := by\n",
      "\n",
      "  /-\n",
      "  To find \\( A \\) and \\( B \\) such that\n",
      "  \\[\n",
      "  \\frac{4x}{x^2 - 8x + 15} = \\frac{A}{x-3} + \\frac{B}{x-5}\n",
      "  \\]\n",
      "  for all \\( x \\) besides 3 and 5, we need to solve for \\( A \\) and \\( B \\). We will use the given equation and substitute specific values of \\( x \\) to form a system of equations. By solving this system, we will determine the values of \\( A \\) and \\( B \\).\n",
      "  -/\n",
      "  have : a = -6 ∧ b = 10 := by\n",
      "    -- Substitute specific values of x to form a system of equations\n",
      "    have := h₀ 4\n",
      "    have := h₀ 2\n",
      "    have := h₀ 1\n",
      "    have := h₀ (-1)\n",
      "    have := h₀ (-2)\n",
      "    have := h₀ (-3)\n",
      "    have := h₀ (-4)\n",
      "    have := h₀ (-5)\n",
      "    have := h₀ (-6)\n",
      "    have := h₀ (-7)\n",
      "    have := h₀ (-8)\n",
      "    have := h₀ (-9)\n",
      "    have := h₀ (-10)\n",
      "    -- Normalize the equations to solve for a and b\n",
      "    norm_num at *\n",
      "    -- Solve the system of equations to find a and b\n",
      "    exact ⟨by linarith, by linarith⟩\n",
      "  exact this\n",
      "\n"
     ]
    }
   ],
   "source": [
    "print(train_data[2]['formal_statement'])\n",
    "print(train_data[2]['formal_proof'][0])"
   ]
  },
  {
   "cell_type": "code",
   "execution_count": 1,
   "metadata": {},
   "outputs": [],
   "source": [
    "#以下是gpt构造器_用于生成提示词\n",
    "from openai import AzureOpenAI\n",
    "import json\n",
    "clientT = AzureOpenAI(\n",
    "\n",
    "    api_version=\"2023-05-15\"\n",
    ")\n",
    "\n",
    "save_pth='new_dataset/'\n",
    "\n",
    "class gpt_interface:\n",
    "    def __init__(self):\n",
    "        with open(\"/home/limengze/chen_dongheng/pipeline/new_dataset/history.json\",'r') as f:\n",
    "            self.history=json.load(f)\n",
    "    def get_response(self,id,question):\n",
    "        messages=[\n",
    "            {\n",
    "                \"role\": \"system\",\n",
    "                \"content\": '''\n",
    "You are a math assistant. Please give me a natural language proof for the following question in one line: \n",
    "'''\n",
    "            },\n",
    "            {\n",
    "                \"role\": \"user\",\n",
    "                \"content\": question\n",
    "            }\n",
    "        ]\n",
    "        if question in self.history:\n",
    "            return id,self.history[question]\n",
    "        #不在，则调用gpt\n",
    "\n",
    "        response = clientT.chat.completions.create(\n",
    "        model=\"gpt-4o\",\n",
    "        messages=messages\n",
    "    )\n",
    "        result_str=(response.choices[0].message.content)\n",
    "        self.history[question]=result_str\n",
    "        return id,result_str\n",
    "    \n",
    "    def save(self):\n",
    "      with open(save_pth+'history.json','w') as f:\n",
    "          json.dump(self.history,f)\n",
    "gpt = gpt_interface()"
   ]
  },
  {
   "cell_type": "code",
   "execution_count": 3,
   "metadata": {},
   "outputs": [],
   "source": [
    "#以下是多线程构造器\n",
    "import concurrent.futures\n",
    "def parallel_requests(func,prompts_list,max_process=16):\n",
    "    Flag = True\n",
    "    results = [0]*len(prompts_list)\n",
    "    # 使用线程池来并行处理请求\n",
    "    with concurrent.futures.ThreadPoolExecutor(max_workers=max_process) as executor:\n",
    "        # 提交所有的请求到线程池\n",
    "        futures = [executor.submit(func,id,item) for id,item in enumerate(prompts_list)]\n",
    "        # 收集所有请求的结果\n",
    "        for future in concurrent.futures.as_completed(futures):\n",
    "            try:\n",
    "                id,result = future.result()\n",
    "                results[id]= result\n",
    "            except Exception as exc:\n",
    "                Flag = False\n",
    "    return Flag,results"
   ]
  },
  {
   "cell_type": "code",
   "execution_count": 3,
   "metadata": {},
   "outputs": [
    {
     "data": {
      "text/plain": [
       "(0,\n",
       " 'For n > 4, observe that the base case holds at n = 5 with 2^5 = 32 > 25 = 5^2, and by induction, assume 2^k > k^2 for some k > 4, which implies 2^(k+1) = 2 * 2^k > 2 * k^2 > (k+1)^2 (since k > 4), hence 2^(k+1) > (k+1)^2, completing the proof.')"
      ]
     },
     "execution_count": 3,
     "metadata": {},
     "output_type": "execute_result"
    }
   ],
   "source": [
    "#测试一下生成\n",
    "gpt.get_response(0,'Prove 2^n > n^2 for n>4')"
   ]
  },
  {
   "cell_type": "code",
   "execution_count": 5,
   "metadata": {},
   "outputs": [],
   "source": [
    "# 按顺序打包所有的题目\n",
    "questions = [item['formal_statement'] for item in train_data]\n",
    "# 并行生成所有的答案\n",
    "success,prompts = parallel_requests(gpt.get_response,questions)"
   ]
  },
  {
   "cell_type": "code",
   "execution_count": 6,
   "metadata": {},
   "outputs": [],
   "source": [
    "# 删除证明的注释\n",
    "import re\n",
    "def remove_proof_comments(proof):\n",
    "    proof = re.sub(r'/-[\\s\\S]*?-\\/', '', proof,re.DOTALL)\n",
    "    # 删除 -- 开头的行\n",
    "    lines = proof.splitlines()\n",
    "    lines = [line for line in lines if not line.strip().startswith('--')]\n",
    "    # 删除空行\n",
    "    lines = [line for line in lines if line.strip()]\n",
    "    # 重新合成行\n",
    "    text =  '\\n'.join(lines)\n",
    "    # 删除/-开头，-/结尾的所有字符串\n",
    "    \n",
    "    return text\n",
    "\n"
   ]
  },
  {
   "cell_type": "code",
   "execution_count": 12,
   "metadata": {},
   "outputs": [],
   "source": [
    "#构造训练集\n",
    "train_set=[]\n",
    "for i in range(len(prompts)):\n",
    "    temp = {}\n",
    "    temp['instruction'] = 'Complete the following Lean 4 code\\n\\n```lean4\\n%s\\n``` '%train_data[i]['formal_statement']+'\\n--%s\\n'%prompts[i]\n",
    "    temp['output'] ='\\n' + remove_proof_comments(train_data[i]['formal_proof'][0])\n",
    "    train_set.append(temp)\n",
    "    "
   ]
  },
  {
   "cell_type": "code",
   "execution_count": 13,
   "metadata": {},
   "outputs": [],
   "source": [
    "with open('1201_train_pairs.json','w') as f:\n",
    "    json.dump(train_set,f)"
   ]
  }
 ],
 "metadata": {
  "kernelspec": {
   "display_name": "ATP_Lean",
   "language": "python",
   "name": "python3"
  },
  "language_info": {
   "codemirror_mode": {
    "name": "ipython",
    "version": 3
   },
   "file_extension": ".py",
   "mimetype": "text/x-python",
   "name": "python",
   "nbconvert_exporter": "python",
   "pygments_lexer": "ipython3",
   "version": "3.10.14"
  }
 },
 "nbformat": 4,
 "nbformat_minor": 2
}
