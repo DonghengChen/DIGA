{
 "cells": [
  {
   "cell_type": "markdown",
   "metadata": {},
   "source": [
    "读取数据集，清洗，生成提示词"
   ]
  },
  {
   "cell_type": "code",
   "execution_count": 71,
   "metadata": {},
   "outputs": [],
   "source": [
    "import json\n",
    "with open('/home/limengze/chen_dongheng/DeepSeek-Prover-V1.5/datasets/enhanced_questions_formalize_0111_total.jsonl','r') as f:\n",
    "    train_data = [json.loads(line) for line in f]\n",
    "# with open('/home/limengze/chen_dongheng/DeepSeek-Prover-V1.5/datasets/enhanced_questions_formalize_1_2.jsonl','r') as f:\n",
    "#     train_data.extend([json.loads(line) for line in f])\n"
   ]
  },
  {
   "cell_type": "code",
   "execution_count": 72,
   "metadata": {},
   "outputs": [],
   "source": [
    "#只要成功的证明\n",
    "with open('/home/limengze/chen_dongheng/DeepSeek-Prover-V1.5/cdh/enhance_proof.json','r') as f:\n",
    "    pf_data = json.load(f)\n"
   ]
  },
  {
   "cell_type": "code",
   "execution_count": 73,
   "metadata": {},
   "outputs": [
    {
     "data": {
      "text/plain": [
       "92"
      ]
     },
     "execution_count": 73,
     "metadata": {},
     "output_type": "execute_result"
    }
   ],
   "source": [
    "len(pf_data)"
   ]
  },
  {
   "cell_type": "code",
   "execution_count": 74,
   "metadata": {},
   "outputs": [],
   "source": [
    "#只要成功的证明\n",
    "success_proofs =[]\n",
    "for data in train_data:\n",
    "    if data['name'] in pf_data:\n",
    "        data['proof']=pf_data[data['name']]\n",
    "        success_proofs.append(data)\n"
   ]
  },
  {
   "cell_type": "code",
   "execution_count": 75,
   "metadata": {},
   "outputs": [
    {
     "data": {
      "text/plain": [
       "92"
      ]
     },
     "execution_count": 75,
     "metadata": {},
     "output_type": "execute_result"
    }
   ],
   "source": [
    "len(success_proofs)\n",
    "# with open('new_dataset/success_proofs.json','w') as f:\n",
    "#     json.dump(success_proofs,f)"
   ]
  },
  {
   "cell_type": "code",
   "execution_count": 76,
   "metadata": {},
   "outputs": [],
   "source": [
    "#以下是gpt构造器_用于生成提示词\n",
    "import openai\n",
    "import json\n",
    "\n",
    "openai.api_base = \"https://api2.aigcbest.top/v1\"\n",
    "clientT = openai.Client()\n",
    "save_pth='new_dataset/'\n",
    "\n",
    "class gpt_interface:\n",
    "    def __init__(self):\n",
    "        with open(\"/home/limengze/chen_dongheng/pipeline/new_dataset/history.json\",'r') as f:\n",
    "            self.history=json.load(f)\n",
    "    def get_response(self,id,question):\n",
    "        messages=[\n",
    "            {\n",
    "                \"role\": \"system\",\n",
    "                \"content\": '''\n",
    "You are a math assistant. Please give me a natural language proof for the following question in one line: \n",
    "'''\n",
    "            },\n",
    "            {\n",
    "                \"role\": \"user\",\n",
    "                \"content\": question\n",
    "            }\n",
    "        ]\n",
    "        if question in self.history:\n",
    "            return id,self.history[question]\n",
    "        #不在，则调用gpt\n",
    "\n",
    "        response = clientT.chat.completions.create(\n",
    "        model=\"gpt-4o\",\n",
    "        messages=messages\n",
    "    )\n",
    "        result_str=(response.choices[0].message.content)\n",
    "        self.history[question]=result_str\n",
    "        self.save()\n",
    "        return id,result_str\n",
    "    \n",
    "    def save(self):\n",
    "      with open(save_pth+'history.json','w') as f:\n",
    "          json.dump(self.history,f)\n",
    "gpt = gpt_interface()"
   ]
  },
  {
   "cell_type": "code",
   "execution_count": 77,
   "metadata": {},
   "outputs": [],
   "source": [
    "#以下是多线程构造器\n",
    "import concurrent.futures\n",
    "from tqdm import tqdm\n",
    "def parallel_requests(func,prompts_list,max_process=16):\n",
    "    Flag = True\n",
    "    results = [0]*len(prompts_list)\n",
    "    # 使用线程池来并行处理请求\n",
    "    with concurrent.futures.ThreadPoolExecutor(max_workers=max_process) as executor:\n",
    "        # 提交所有的请求到线程池\n",
    "        futures = [executor.submit(func,id,item) for id,item in enumerate(prompts_list)]\n",
    "        # 收集所有请求的结果\n",
    "        for future in tqdm(concurrent.futures.as_completed(futures)):\n",
    "            try:\n",
    "                id,result = future.result()\n",
    "                results[id]= result\n",
    "            except Exception as exc:\n",
    "                Flag = False\n",
    "    return Flag,results"
   ]
  },
  {
   "cell_type": "code",
   "execution_count": 78,
   "metadata": {},
   "outputs": [],
   "source": [
    "# 按顺序打包所有的题目\n",
    "questions = [item['formal_statement'] for item in success_proofs]"
   ]
  },
  {
   "cell_type": "code",
   "execution_count": 79,
   "metadata": {},
   "outputs": [
    {
     "name": "stderr",
     "output_type": "stream",
     "text": [
      "92it [00:00, 91613.48it/s]\n"
     ]
    }
   ],
   "source": [
    "# 并行生成所有的答案\n",
    "success,prompts = parallel_requests(gpt.get_response,questions)"
   ]
  },
  {
   "cell_type": "code",
   "execution_count": 80,
   "metadata": {},
   "outputs": [],
   "source": [
    "# 删除证明的注释\n",
    "import re\n",
    "def remove_proof_comments(proof):\n",
    "    proof = re.sub(r'/-[\\s\\S]*?-\\/', '', proof,re.DOTALL)\n",
    "    # 删除 -- 开头的行\n",
    "    lines = proof.splitlines()\n",
    "    lines = [line for line in lines if not line.strip().startswith('--')]\n",
    "    # 删除空行\n",
    "    lines = [line for line in lines if line.strip()]\n",
    "    # 重新合成行\n",
    "    text =  '\\n'.join(lines)\n",
    "    # 删除/-开头，-/结尾的所有字符串\n",
    "    \n",
    "    return text\n",
    "\n"
   ]
  },
  {
   "cell_type": "code",
   "execution_count": 82,
   "metadata": {},
   "outputs": [],
   "source": [
    "#构造训练集\n",
    "train_set=[]\n",
    "for i in range(len(prompts)):\n",
    "    temp = {}\n",
    "    temp['instruction'] = 'Complete the following Lean 4 code\\n\\n```lean4\\n%s\\n``` '%train_data[i]['formal_statement']\n",
    "    temp['output'] ='\\n--%s\\n'%prompts[i]+'\\n' + remove_proof_comments(success_proofs[i]['proof'][0])\n",
    "    train_set.append(temp)\n",
    "    "
   ]
  },
  {
   "cell_type": "code",
   "execution_count": 84,
   "metadata": {},
   "outputs": [],
   "source": [
    "with open('2025_1_17_train_pairs2.json','w') as f:\n",
    "    json.dump(train_set,f)"
   ]
  }
 ],
 "metadata": {
  "kernelspec": {
   "display_name": "ATP_Lean",
   "language": "python",
   "name": "python3"
  },
  "language_info": {
   "codemirror_mode": {
    "name": "ipython",
    "version": 3
   },
   "file_extension": ".py",
   "mimetype": "text/x-python",
   "name": "python",
   "nbconvert_exporter": "python",
   "pygments_lexer": "ipython3",
   "version": "3.10.14"
  }
 },
 "nbformat": 4,
 "nbformat_minor": 2
}
