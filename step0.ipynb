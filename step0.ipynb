{
 "cells": [
  {
   "cell_type": "code",
   "execution_count": 1,
   "metadata": {},
   "outputs": [],
   "source": [
    "#导入必须库\n",
    "import json\n",
    "import os"
   ]
  },
  {
   "cell_type": "markdown",
   "metadata": {},
   "source": [
    "预处理：将所有数据集进行聚合，重新编号"
   ]
  },
  {
   "cell_type": "code",
   "execution_count": 2,
   "metadata": {},
   "outputs": [],
   "source": [
    "#打开提取的题目json\n",
    "with open('minif2f.jsonl', 'r') as f:\n",
    "    data = [json.loads(l) for l in f.readlines()]\n",
    "#将二阶分类设置成minif2f\n",
    "for i in data:\n",
    "    i['category'] = 'minif2f'\n",
    "with open('aime_amc_new.jsonl','r') as f:\n",
    "    data2 = [json.loads(l) for l in f.readlines()]\n",
    "#将二阶分类设置成aime_amc\n",
    "for i in data2:\n",
    "    i['category'] = 'aime_amc'\n",
    "#合并两个json\n",
    "data.extend(data2)"
   ]
  },
  {
   "cell_type": "code",
   "execution_count": 3,
   "metadata": {},
   "outputs": [
    {
     "name": "stdout",
     "output_type": "stream",
     "text": [
      "384\n",
      "210\n"
     ]
    }
   ],
   "source": [
    "amc=0\n",
    "aime=0\n",
    "for item in data:\n",
    "\n",
    "    if 'amc' in item['name'].lower():\n",
    "        amc+=1\n",
    "    if 'aime' in item['name'].lower():\n",
    "        aime+=1\n",
    "    \n",
    "print(amc)\n",
    "print(aime)"
   ]
  },
  {
   "cell_type": "code",
   "execution_count": 49,
   "metadata": {},
   "outputs": [],
   "source": [
    "#以下是gpt构造器_单个subgoal生成\n",
    "import openai\n",
    "from openai import AzureOpenAI\n",
    "import json\n",
    "clientT = AzureOpenAI(\n",
    "    api_key=\n",
    "    azure_endpoint='https://hkust.azure-api.net',\n",
    "    api_version=\"2023-05-15\"\n",
    ")\n",
    "\n",
    "save_pth='new_dataset/'\n",
    "\n",
    "class gpt_interface:\n",
    "    def __init__(self):\n",
    "        openai.api_base = \"https://api2.aigcbest.top/v1\"\n",
    "        self.client = openai.Client(api_key=)\n",
    "        try:\n",
    "            with open(save_pth+'history_2.json','r') as f:\n",
    "                self.history2=json.load(f)\n",
    "        except:\n",
    "            self.history2={}\n",
    "        try:\n",
    "            with open(save_pth+'history_3.json','r') as f:\n",
    "                self.history3=json.load(f)\n",
    "\n",
    "        except:\n",
    "            \n",
    "            self.history3 = {}\n",
    "    def get_response(self,question,id):\n",
    "        \n",
    "        messages=[\n",
    "            {\n",
    "                \"role\": \"system\",\n",
    "                \"content\": '''\n",
    "You are a math assistant. Please give me all the subgoals of the proof based on the question below. You can analysis the probelm as you want. But you need to use [1][2][3]... to mark the subgoals.\n",
    "theorem aime_problem (hx : x > 1) (hy : y > 1) \n",
    "  (h1 : (log (y ^ x)) / (log x) = 10)\n",
    "  (h2 : (log (x ^ (4 * y))) / (log y) = 10) :\n",
    "  x * y = 25 := by\n",
    "Subgoals:\n",
    "```subgoals\n",
    "[1](x * log y) / (log x) = 10\n",
    "[2]((x * log y) / (log x)) * ((4 * y * log x) / (log y)) = 100\n",
    "[3](4 * x * y) * ((log y * log x) / (log x * log y)) = 100\n",
    "[4]4 * x * y = 100\n",
    "```\n",
    "Now, please give me all the subgoals of this problem:\n",
    "'''\n",
    "            },\n",
    "            {\n",
    "                \"role\": \"user\",\n",
    "                \"content\": question\n",
    "            }\n",
    "        ]\n",
    "        if question in self.history2:\n",
    "            messages.append(\n",
    "             {   \"role\": \"system\",\n",
    "                \"content\": self.history2[question]})\n",
    "            return self.history2[question],messages,id\n",
    "        #不在，则调用gpt\n",
    "\n",
    "        response = clientT.chat.completions.create(\n",
    "        model=\"gpt-4o\",\n",
    "        messages=messages\n",
    "    )\n",
    "        result_str=(response.choices[0].message.content)\n",
    "        self.history2[question]=result_str\n",
    "        messages.append(\n",
    "            {   \"role\": \"system\",\n",
    "                \"content\": result_str})\n",
    "        self.save()\n",
    "        return result_str,messages,id\n",
    "    def get_details(self,message,indexs,id):\n",
    "        if id in self.history3:\n",
    "            return self.history3[id],id\n",
    "        message.append({'role':'user','content':'Please help me refine the proof for the following subgoals: %s'%indexs})\n",
    "        response = clientT.chat.completions.create(\n",
    "        model=\"gpt-4o\",\n",
    "        messages=message\n",
    "    )\n",
    "        result_str=(response.choices[0].message.content)\n",
    "        self.history3[id]=result_str\n",
    "        self.save()\n",
    "        return result_str,id\n",
    "\n",
    "\n",
    "    def save(self):\n",
    "      with open(save_pth+'history_2.json','w') as f:\n",
    "          json.dump(self.history2,f)\n",
    "      with open(save_pth+'history_3.json','w') as f:\n",
    "          json.dump(self.history3,f)"
   ]
  },
  {
   "cell_type": "code",
   "execution_count": 40,
   "metadata": {},
   "outputs": [],
   "source": [
    "#以下是多线程构造器\n",
    "import concurrent.futures\n",
    "def parallel_requests(func,prompts_list,max_process=16):\n",
    "    results = [0]*len(prompts_list)\n",
    "    # 使用线程池来并行处理请求\n",
    "    with concurrent.futures.ThreadPoolExecutor(max_workers=max_process) as executor:\n",
    "        # 提交所有的请求到线程池\n",
    "        futures = [executor.submit(func, item[0],item[1],id) for id,item in enumerate(prompts_list)]\n",
    "        # 收集所有请求的结果\n",
    "        for future in concurrent.futures.as_completed(futures):\n",
    "            try:\n",
    "                result,id = future.result()\n",
    "                results[id]= result\n",
    "            except Exception as exc:\n",
    "                results.append({\"error\": str(exc)})\n",
    "\n",
    "    return results"
   ]
  },
  {
   "cell_type": "code",
   "execution_count": 50,
   "metadata": {},
   "outputs": [],
   "source": [
    "test1000=gpt_interface()\n",
    "\n",
    "#产生一个gpt对象"
   ]
  },
  {
   "cell_type": "code",
   "execution_count": 7,
   "metadata": {},
   "outputs": [],
   "source": [
    "#构造题目提问序列\n",
    "prompts=[]\n",
    "for item in data:\n",
    "    prompts.append(item['informal_prefix'])"
   ]
  },
  {
   "cell_type": "code",
   "execution_count": null,
   "metadata": {},
   "outputs": [],
   "source": [
    "prompt_list=parallel_requests(test1000.get_details,prompts2,64)\n"
   ]
  },
  {
   "cell_type": "code",
   "execution_count": 38,
   "metadata": {},
   "outputs": [
    {
     "data": {
      "text/plain": [
       "4331"
      ]
     },
     "execution_count": 38,
     "metadata": {},
     "output_type": "execute_result"
    }
   ],
   "source": [
    "#循环扫描，获得所有的subgoal\n",
    "sub_goals_list=[]\n",
    "global_id=0\n",
    "for item in prompt_list:\n",
    "    #看看一共有几个subgoals\n",
    "    id = 1\n",
    "    for i in range(1,100):\n",
    "        if '[%d]'%i in item[0]:\n",
    "            id+=1\n",
    "            global_id+=1\n",
    "            sub_goals_list.append((item[1],'[%d]'%i))\n",
    "        else:\n",
    "            break\n",
    "    \n",
    "len(sub_goals_list)"
   ]
  },
  {
   "cell_type": "code",
   "execution_count": 64,
   "metadata": {},
   "outputs": [],
   "source": [
    "subgoals=parallel_requests(test1000.get_details,sub_goals_list,8)\n",
    "test1000.save()\n",
    "with open(save_pth+'subgoals.json','w') as f:\n",
    "    json.dump(subgoals,f)"
   ]
  },
  {
   "cell_type": "code",
   "execution_count": null,
   "metadata": {},
   "outputs": [
    {
     "data": {
      "text/plain": [
       "4331"
      ]
     },
     "execution_count": 70,
     "metadata": {},
     "output_type": "execute_result"
    }
   ],
   "source": []
  },
  {
   "cell_type": "code",
   "execution_count": 65,
   "metadata": {},
   "outputs": [],
   "source": [
    "global_id=0\n",
    "spt=[]\n",
    "for item in prompt_list:\n",
    "    #看看一共有几个subgoals\n",
    "    id = 1\n",
    "    temp=[]\n",
    "    for i in range(1,100):\n",
    "        if '[%d]'%i in item[0]:\n",
    "            temp.append(subgoals[global_id])\n",
    "            id+=1\n",
    "            global_id+=1\n",
    "        else:\n",
    "            break\n",
    "    spt.append(temp)"
   ]
  },
  {
   "cell_type": "code",
   "execution_count": 68,
   "metadata": {},
   "outputs": [],
   "source": [
    "for i in range(len(data)):\n",
    "    data[i]['informal_proof_root']=prompt_list[i][0]\n",
    "    data[i]['informal_proof_subgoals']=spt[i]"
   ]
  },
  {
   "cell_type": "code",
   "execution_count": 69,
   "metadata": {},
   "outputs": [],
   "source": [
    "with open(save_pth+'super_dataset.json','w') as f:\n",
    "    json.dump(data,f)"
   ]
  },
  {
   "cell_type": "code",
   "execution_count": 61,
   "metadata": {},
   "outputs": [],
   "source": [
    "clientT = openai.Client()"
   ]
  },
  {
   "cell_type": "code",
   "execution_count": 44,
   "metadata": {},
   "outputs": [],
   "source": [
    "with open(save_pth+'subgoals.json','w') as f:\n",
    "    json.dump(subgoals,f)"
   ]
  },
  {
   "cell_type": "code",
   "execution_count": 48,
   "metadata": {},
   "outputs": [],
   "source": [
    "#回写题目\n",
    "for i in range(len(data)):\n",
    "    data[i]['formal_statement']+='\\n/-%s-/\\n'%prompt_list[i][0]\n",
    "with open('aime_amc_orihint.jsonl', 'w') as f:\n",
    "    for item in data:\n",
    "        f.write(json.dumps(item)+'\\n')"
   ]
  },
  {
   "cell_type": "code",
   "execution_count": 181,
   "metadata": {},
   "outputs": [],
   "source": [
    "# 生成幂集\n",
    "import re\n",
    "import itertools\n",
    "def powerset(iterable):\n",
    "    s = list(iterable)\n",
    "    return itertools.chain.from_iterable(itertools.combinations(s, r) for r in range(len(s)+1))\n",
    "def seg(text,indexs,detail_list):\n",
    "    split_text = re.split(r'\\[\\d+\\]', text)\n",
    "    output=split_text[0]\n",
    "    for i in range(len(detail_list)):\n",
    "        output+='[%d]'%(i+1)\n",
    "        if i in indexs:\n",
    "            output+='\\n'+refine(detail_list[i])+'\\n'\n",
    "        else:\n",
    "            output+=split_text[i+1]\n",
    "    return output\n",
    "def refine(text): #只保留公式\n",
    "    text=text.replace('\\n',' ')\n",
    "    outs=[]\n",
    "    formulas = re.findall(r'\\\\[\\s\\S]*?\\\\]', text)\n",
    "    for item in formulas:\n",
    "        outs.extend(re.findall(r'\\\\\\[[\\s\\S]*?\\\\]', item, re.DOTALL))\n",
    "    if len(outs)==0:\n",
    "        return text\n",
    "    return '\\n'.join(outs)"
   ]
  },
  {
   "cell_type": "code",
   "execution_count": 201,
   "metadata": {},
   "outputs": [
    {
     "name": "stderr",
     "output_type": "stream",
     "text": [
      "  0%|          | 0/961 [00:00<?, ?it/s]"
     ]
    },
    {
     "name": "stderr",
     "output_type": "stream",
     "text": [
      "100%|██████████| 961/961 [01:01<00:00, 15.52it/s]\n"
     ]
    }
   ],
   "source": [
    "#super_select_data_maker\n",
    "from tqdm import tqdm\n",
    "super_set=[]\n",
    "for item in tqdm(data):\n",
    "    for ps in powerset(range(len(item['informal_proof_subgoals']))):\n",
    "        result=seg(item['informal_proof_root'],ps,item['informal_proof_subgoals'])\n",
    "        # print(result)\n",
    "        new_obj=item.copy()\n",
    "        new_obj['formal_statement']+='\\n/-%s-/\\n'%result\n",
    "        new_obj['name']+=('_%s'%str(ps)).replace(' ','')\n",
    "        del new_obj['informal_proof_subgoals']\n",
    "        del new_obj['informal_proof_root'] #节约空间\n",
    "        super_set.append(new_obj)\n",
    "    "
   ]
  },
  {
   "cell_type": "code",
   "execution_count": 203,
   "metadata": {},
   "outputs": [
    {
     "name": "stdout",
     "output_type": "stream",
     "text": [
      "{'name': 'amc12a_2019_p21_()', 'split': 'valid', 'informal_prefix': '/-- Let $z=\\\\frac{1+i}{\\\\sqrt{2}}.$What is $\\\\left(z^{1^2}+z^{2^2}+z^{3^2}+\\\\dots+z^{{12}^2}\\\\right) \\\\cdot \\\\left(\\\\frac{1}{z^{1^2}}+\\\\frac{1}{z^{2^2}}+\\\\frac{1}{z^{3^2}}+\\\\dots+\\\\frac{1}{z^{{12}^2}}\\\\right)?$\\n\\n$\\\\textbf{(A) } 18 \\\\qquad \\\\textbf{(B) } 72-36\\\\sqrt2 \\\\qquad \\\\textbf{(C) } 36 \\\\qquad \\\\textbf{(D) } 72 \\\\qquad \\\\textbf{(E) } 72+36\\\\sqrt2$ Show that it is \\\\textbf{(C) }36.-/\\n', 'formal_statement': 'theorem amc12a_2019_p21 (z : ℂ) (h₀ : z = (1 + Complex.I) / Real.sqrt 2) :\\n  ((∑ k : ℤ in Finset.Icc 1 12, z ^ k ^ 2) * (∑ k : ℤ in Finset.Icc 1 12, 1 / z ^ k ^ 2)) = 36 := by\\n\\n/-To solve this problem, we need to analyze and compute the value of the given expression. Here are the subgoals to reach the solution:\\n\\n[1] **Determine the properties of \\\\( z \\\\):** \\n   - Compute \\\\( |z| \\\\) and the argument of \\\\( z \\\\), which will help in understanding the pattern in powers of \\\\( z \\\\).\\n   - Prove that \\\\( |z| = 1 \\\\) since \\\\( z = \\\\frac{1+i}{\\\\sqrt{2}} \\\\).\\n\\n[2] **Evaluate \\\\( z^{n^2} \\\\) and its conjugate:**\\n   - Calculate \\\\( z^{n^2} \\\\) for \\\\( n = 1, 2, \\\\ldots, 12 \\\\).\\n   - Determine the complex conjugate of each \\\\( z^{n^2} \\\\).\\n\\n[3] **Simplify the expression:**\\n   - Use properties of complex numbers to simplify \\\\( \\\\left(z^{1^2} + z^{2^2} + \\\\cdots + z^{12^2}\\\\right) \\\\) and its reciprocal sum.\\n  \\n[4] **Recognize symmetry and compute sums:**\\n   - Notice any symmetries in the expression and how they can simplify the product of sum with its reciprocal.\\n   - Use geometric series or algebraic identities, if applicable, to simplify the sum further.\\n\\n[5] **Calculate the product:**\\n   - Explicitly compute the product \\\\( \\\\left(z^{1^2} + z^{2^2} + \\\\cdots + z^{12^2}\\\\right) \\\\times \\\\left(\\\\frac{1}{z^{1^2}} + \\\\frac{1}{z^{2^2}} + \\\\cdots + \\\\frac{1}{z^{12^2}}\\\\right) \\\\).\\n   - Use properties of the modulus of \\\\( z \\\\) and trigonometric identities as necessary.\\n\\n[6] **Conclude with the result:**\\n   - Show that the result of the expression simplifies to \\\\( 36 \\\\), thereby concluding that the correct answer is \\\\( \\\\boxed{36} \\\\).\\n\\nThese steps guide us through the logical progression needed to arrive at the final solution.-/\\n', 'goal': 'z : ℂ\\nh₀ : z = (1 + Complex.I) / ↑√2\\n⊢ (∑ k ∈ Finset.Icc 1 12, z ^ k ^ 2) * ∑ k ∈ Finset.Icc 1 12, 1 / z ^ k ^ 2 = 36', 'header': 'import Mathlib\\nimport Aesop\\n\\nset_option maxHeartbeats 0\\n\\nopen BigOperators Real Nat Topology Rat\\n\\n', 'category': 'minif2f'}\n"
     ]
    }
   ],
   "source": [
    "for item in super_set:\n",
    "    if item['split']=='valid':\n",
    "        print(item)\n",
    "        break"
   ]
  },
  {
   "cell_type": "code",
   "execution_count": 204,
   "metadata": {},
   "outputs": [],
   "source": [
    "# 保存jsonl\n",
    "with open(save_pth+'aime_amc_super.jsonl', 'w') as f:\n",
    "    for item in super_set:\n",
    "        f.write(json.dumps(item)+'\\n')"
   ]
  }
 ],
 "metadata": {
  "kernelspec": {
   "display_name": "ATP_Lean",
   "language": "python",
   "name": "python3"
  },
  "language_info": {
   "codemirror_mode": {
    "name": "ipython",
    "version": 3
   },
   "file_extension": ".py",
   "mimetype": "text/x-python",
   "name": "python",
   "nbconvert_exporter": "python",
   "pygments_lexer": "ipython3",
   "version": "3.10.14"
  }
 },
 "nbformat": 4,
 "nbformat_minor": 2
}
