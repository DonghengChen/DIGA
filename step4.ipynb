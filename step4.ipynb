{
 "cells": [
  {
   "cell_type": "markdown",
   "metadata": {},
   "source": [
    "本代码旨在提升latex生成的效果"
   ]
  },
  {
   "cell_type": "code",
   "execution_count": 1,
   "metadata": {},
   "outputs": [],
   "source": [
    "import json\n",
    "datas=[]\n",
    "with open('aime_amc_new.jsonl','r',encoding='utf-8') as f:\n",
    "    lines=f.readlines()\n",
    "    for line in lines:\n",
    "        data=json.loads(line)\n",
    "        # if data['split']=='test':\n",
    "        datas.append(data)\n",
    "datas2=[]\n",
    "with open('1111latex.jsonl','r',encoding='utf-8') as f:\n",
    "    lines=f.readlines()\n",
    "    for line in lines:\n",
    "        data=json.loads(line)\n",
    "        # if data['split']=='test':\n",
    "        datas2.append(data)"
   ]
  },
  {
   "cell_type": "code",
   "execution_count": 2,
   "metadata": {},
   "outputs": [],
   "source": [
    "# 提取latex提示词\n",
    "latex=[]\n",
    "for i in range(len(datas2)):\n",
    "    cut = len(datas[i]['formal_statement'])\n",
    "    latex.append(datas2[i]['formal_statement'][cut:])"
   ]
  },
  {
   "cell_type": "code",
   "execution_count": 3,
   "metadata": {},
   "outputs": [],
   "source": [
    "import re\n",
    "# 根据编号进行分组\n",
    "# 正则表达式匹配编号和随后的文本\n",
    "def seg_text(text):\n",
    "    pattern = r'(-- |\\n)(\\d+)\\. '\n",
    "    pattern2 = r'Step \\d+'\n",
    "    matches = re.finditer(pattern, text, re.DOTALL)\n",
    "    matches2 = re.finditer(pattern2, text, re.DOTALL)\n",
    "    segs=[]\n",
    "    segs2=[]\n",
    "    for match in matches:\n",
    "        segs.append(match.start())\n",
    "    for match in matches2:\n",
    "        segs2.append(match.start())\n",
    "    if len(segs2)> len(segs):\n",
    "        segs=segs2\n",
    "    seg=[]\n",
    "    for i in range(len(segs)-1):\n",
    "        seg.append(text[segs[i]:segs[i+1]])\n",
    "    seg.append(text[segs[-1]:])\n",
    "    return seg"
   ]
  },
  {
   "cell_type": "code",
   "execution_count": 4,
   "metadata": {},
   "outputs": [
    {
     "data": {
      "text/plain": [
       "[\"-- 1. Express total work done in terms of Brenda and Brandon's rates:\\n--    brendaRate = total_bricks / 9\\n\",\n",
       " '-- 2. Express total work done by Brandon:\\n--    brandonRate = total_bricks / 10\\n',\n",
       " '-- 3. Write the equation representing the combined work done by both Brenda and Brandon with a penalty applied:\\n--    5 * ((brendaRate + brandonRate) - 10) = total_bricks\\n',\n",
       " '-- 4. Solve for brendaRate + brandonRate:\\n--    brendaRate + brandonRate = total_bricks / 9 + total_bricks / 10\\n',\n",
       " '-- 5. Write down the expression for the penalty:\\n--    Penalty = 10 (in bricks per hour)\\n',\n",
       " '-- 6. Express 5 * ((brendaRate + brandonRate) - 10) in terms of total_bricks:\\n--    5 * (total_bricks / 9 + total_bricks / 10 - 10) = total_bricks\\n',\n",
       " '-- 7. Simplify the equation:\\n--    Find common denominators and solve the equation 5 * ((total_bricks / 9) + (total_bricks / 10) - 10)\\n',\n",
       " '-- 8. Conclude that total_bricks = 900:\\n--    Verify that 5 * ((900 / 9) + (900 / 10) - 10) = 900 holds true.\\n']"
      ]
     },
     "execution_count": 4,
     "metadata": {},
     "output_type": "execute_result"
    }
   ],
   "source": [
    "seg_text(latex[1])"
   ]
  },
  {
   "cell_type": "code",
   "execution_count": 31,
   "metadata": {},
   "outputs": [],
   "source": [
    "from openai import AzureOpenAI\n",
    "client = AzureOpenAI(\n",
    "\n",
    ")\n",
    "deep_buffer={}\n",
    "def get_proof(id,question,answer):\n",
    "    if question in deep_buffer:\n",
    "        return (id,deep_buffer[question])\n",
    "    response = client.chat.completions.create(\n",
    "        model=\"gpt-4o\",\n",
    "        messages=[\n",
    "            {\n",
    "                \"role\": \"system\",\n",
    "                \"content\": '''\n",
    "You are a math assistant. Here is the brief proof outline of the theorem.  \n",
    "The problem is as follows:\n",
    "%s\n",
    "The outline of the proof is as follows:\n",
    "%s\n",
    "Please help me fill in the details between steps'''%(question,answer)\n",
    "            }\n",
    "        ]\n",
    "    )\n",
    "    result = response.choices[0].message.content\n",
    "    deep_buffer[question]=result\n",
    "    return (id,result)"
   ]
  },
  {
   "cell_type": "code",
   "execution_count": 30,
   "metadata": {},
   "outputs": [],
   "source": [
    "#以下是多线程构造器\n",
    "import concurrent.futures\n",
    "def parallel_requests(func,prompts_list,max_process=16):\n",
    "    results = [0]*len(prompts_list)\n",
    "    # 使用线程池来并行处理请求\n",
    "    with concurrent.futures.ThreadPoolExecutor(max_workers=max_process) as executor:\n",
    "        # 提交所有的请求到线程池\n",
    "        futures = [executor.submit(func, id,item[0],item[1]) for id,item in enumerate(prompts_list)]\n",
    "        # 收集所有请求的结果\n",
    "        for future in concurrent.futures.as_completed(futures):\n",
    "            try:\n",
    "                id,result = future.result()\n",
    "                results[id]= result\n",
    "            except Exception as exc:\n",
    "                results.append({\"error\": str(exc)})\n",
    "\n",
    "    return results"
   ]
  },
  {
   "cell_type": "code",
   "execution_count": 38,
   "metadata": {},
   "outputs": [],
   "source": [
    "# 构造数据对\n",
    "prompts_list=[]\n",
    "for i in range(len(datas)):\n",
    "        prompts_list.append((datas[i]['informal_prefix'],latex[i]))\n",
    "results = parallel_requests(get_proof,prompts_list[0:10])"
   ]
  },
  {
   "cell_type": "code",
   "execution_count": 44,
   "metadata": {},
   "outputs": [],
   "source": [
    "results = parallel_requests(get_proof,prompts_list)"
   ]
  },
  {
   "cell_type": "code",
   "execution_count": 6,
   "metadata": {},
   "outputs": [],
   "source": [
    "with open('1127con/requests.json','r') as f:\n",
    "    results = json.load(f)"
   ]
  },
  {
   "cell_type": "code",
   "execution_count": 8,
   "metadata": {},
   "outputs": [
    {
     "data": {
      "text/plain": [
       "0"
      ]
     },
     "execution_count": 8,
     "metadata": {},
     "output_type": "execute_result"
    }
   ],
   "source": [
    "len(results) - len(datas)"
   ]
  },
  {
   "cell_type": "markdown",
   "metadata": {},
   "source": [
    "# 构造half_shot\n",
    "分成前半部分和后半部分，然后进行构造。"
   ]
  },
  {
   "cell_type": "code",
   "execution_count": 24,
   "metadata": {},
   "outputs": [],
   "source": [
    "def con(a,b):\n",
    "    ah = len(a)/2\n",
    "    bh = len(b)/2\n",
    "    con = a[int(ah):]+b[:int(bh)]\n",
    "    return ''.join(con)"
   ]
  },
  {
   "cell_type": "code",
   "execution_count": null,
   "metadata": {},
   "outputs": [],
   "source": [
    "def con2(a,b):\n",
    "    results=[]\n",
    "    for i in range(1,len(a)):\n",
    "        for j in range(i):\n",
    "            lena = int(j*len(a)/len(b))\n",
    "            lenb = int(i*len(b)/len(a))\n",
    "            con = a[:j]+[b[lena]]+a[j+1:i]+[b[lenb]]+a[i+1:]\n",
    "            hint=''.join(con)\n",
    "            results.append({'hint':hint,'id0':i,'id1':j})\n",
    "    return results\n"
   ]
  },
  {
   "cell_type": "code",
   "execution_count": 11,
   "metadata": {},
   "outputs": [],
   "source": [
    "new_con1=[]\n",
    "for i in range(len(results)):\n",
    "    new_con1.append((con(latex[i],results[i]),con(results[i],latex[i])))"
   ]
  },
  {
   "cell_type": "code",
   "execution_count": 12,
   "metadata": {},
   "outputs": [
    {
     "name": "stdout",
     "output_type": "stream",
     "text": [
      "0.7695560253699789\n"
     ]
    }
   ],
   "source": [
    "new_con2=[]\n",
    "z=0\n",
    "for i in range(len(results)):\n",
    "    try:\n",
    "        new_con2.append(con2(seg_text(results[i]),seg_text(latex[i])))\n",
    "        z+=1\n",
    "    except:\n",
    "        new_con2.append(latex[i])\n",
    "print(z/len(results))"
   ]
  },
  {
   "cell_type": "code",
   "execution_count": 13,
   "metadata": {},
   "outputs": [
    {
     "data": {
      "text/plain": [
       "[{'hint': '-- 1. Expand \\\\((x - y)^2\\\\) and \\\\((y - x)^2\\\\)\\n-- 2. Show that \\\\((x - y)^2 = (y - x)^2\\\\)\\n\\n3. **Conclude that \\\\((x - y)^2 - (y - x)^2 = 0\\\\):**\\n\\n   Since \\\\((x - y)^2 = (y - x)^2\\\\), we have:\\n   \\\\[\\n   (x - y)^2 - (y - x)^2 = x^2 - 2xy + y^2 - (y^2 - 2xy + x^2) = 0.\\n   \\\\]\\n\\n4. **Show that \\\\(0^2 = 0\\\\):**\\n\\n   The operation defined is \\\\(a$$$b = (a - b)^2\\\\). Applying this to \\\\(a = (x - y)^2\\\\) and \\\\(b = (y - x)^2\\\\), we have:\\n   \\\\[\\n   (x - y)^2$$$(y - x)^2 = ((x - y)^2 - (y - x)^2)^2 = 0^2 = 0.\\n   \\\\]\\n\\nThus, the value of \\\\((x - y)^2$$$(y - x)^2\\\\) is \\\\(\\\\boxed{0}\\\\).',\n",
       "  'id0': 1,\n",
       "  'id1': 0},\n",
       " {'hint': '-- 1. Expand \\\\((x - y)^2\\\\) and \\\\((y - x)^2\\\\)\\n\\n2. **Show that \\\\((x - y)^2 = (y - x)^2\\\\):**\\n\\n   Both expressions are equal because both expand to \\\\(x^2 - 2xy + y^2\\\\).\\n-- 3. Conclude that \\\\((x - y)^2 - (y - x)^2 = 0\\\\)\\n\\n4. **Show that \\\\(0^2 = 0\\\\):**\\n\\n   The operation defined is \\\\(a$$$b = (a - b)^2\\\\). Applying this to \\\\(a = (x - y)^2\\\\) and \\\\(b = (y - x)^2\\\\), we have:\\n   \\\\[\\n   (x - y)^2$$$(y - x)^2 = ((x - y)^2 - (y - x)^2)^2 = 0^2 = 0.\\n   \\\\]\\n\\nThus, the value of \\\\((x - y)^2$$$(y - x)^2\\\\) is \\\\(\\\\boxed{0}\\\\).',\n",
       "  'id0': 2,\n",
       "  'id1': 0},\n",
       " {'hint': '\\n1. **Expand \\\\((x - y)^2\\\\) and \\\\((y - x)^2\\\\):**\\n\\n   \\\\((x - y)^2 = (x - y)(x - y) = x^2 - 2xy + y^2\\\\).\\n\\n   \\\\((y - x)^2 = (y - x)(y - x) = y^2 - 2xy + x^2\\\\).\\n-- 2. Show that \\\\((x - y)^2 = (y - x)^2\\\\)\\n-- 3. Conclude that \\\\((x - y)^2 - (y - x)^2 = 0\\\\)\\n\\n4. **Show that \\\\(0^2 = 0\\\\):**\\n\\n   The operation defined is \\\\(a$$$b = (a - b)^2\\\\). Applying this to \\\\(a = (x - y)^2\\\\) and \\\\(b = (y - x)^2\\\\), we have:\\n   \\\\[\\n   (x - y)^2$$$(y - x)^2 = ((x - y)^2 - (y - x)^2)^2 = 0^2 = 0.\\n   \\\\]\\n\\nThus, the value of \\\\((x - y)^2$$$(y - x)^2\\\\) is \\\\(\\\\boxed{0}\\\\).',\n",
       "  'id0': 2,\n",
       "  'id1': 1},\n",
       " {'hint': '-- 1. Expand \\\\((x - y)^2\\\\) and \\\\((y - x)^2\\\\)\\n\\n2. **Show that \\\\((x - y)^2 = (y - x)^2\\\\):**\\n\\n   Both expressions are equal because both expand to \\\\(x^2 - 2xy + y^2\\\\).\\n\\n3. **Conclude that \\\\((x - y)^2 - (y - x)^2 = 0\\\\):**\\n\\n   Since \\\\((x - y)^2 = (y - x)^2\\\\), we have:\\n   \\\\[\\n   (x - y)^2 - (y - x)^2 = x^2 - 2xy + y^2 - (y^2 - 2xy + x^2) = 0.\\n   \\\\]\\n-- 4. Show that \\\\(0^2 = 0\\\\)\\n',\n",
       "  'id0': 3,\n",
       "  'id1': 0},\n",
       " {'hint': '\\n1. **Expand \\\\((x - y)^2\\\\) and \\\\((y - x)^2\\\\):**\\n\\n   \\\\((x - y)^2 = (x - y)(x - y) = x^2 - 2xy + y^2\\\\).\\n\\n   \\\\((y - x)^2 = (y - x)(y - x) = y^2 - 2xy + x^2\\\\).\\n-- 2. Show that \\\\((x - y)^2 = (y - x)^2\\\\)\\n\\n3. **Conclude that \\\\((x - y)^2 - (y - x)^2 = 0\\\\):**\\n\\n   Since \\\\((x - y)^2 = (y - x)^2\\\\), we have:\\n   \\\\[\\n   (x - y)^2 - (y - x)^2 = x^2 - 2xy + y^2 - (y^2 - 2xy + x^2) = 0.\\n   \\\\]\\n-- 4. Show that \\\\(0^2 = 0\\\\)\\n',\n",
       "  'id0': 3,\n",
       "  'id1': 1},\n",
       " {'hint': '\\n1. **Expand \\\\((x - y)^2\\\\) and \\\\((y - x)^2\\\\):**\\n\\n   \\\\((x - y)^2 = (x - y)(x - y) = x^2 - 2xy + y^2\\\\).\\n\\n   \\\\((y - x)^2 = (y - x)(y - x) = y^2 - 2xy + x^2\\\\).\\n\\n2. **Show that \\\\((x - y)^2 = (y - x)^2\\\\):**\\n\\n   Both expressions are equal because both expand to \\\\(x^2 - 2xy + y^2\\\\).\\n-- 3. Conclude that \\\\((x - y)^2 - (y - x)^2 = 0\\\\)\\n-- 4. Show that \\\\(0^2 = 0\\\\)\\n',\n",
       "  'id0': 3,\n",
       "  'id1': 2}]"
      ]
     },
     "execution_count": 13,
     "metadata": {},
     "output_type": "execute_result"
    }
   ],
   "source": [
    "new_con2[0]"
   ]
  },
  {
   "cell_type": "code",
   "execution_count": 32,
   "metadata": {},
   "outputs": [],
   "source": [
    "# with open('1127con/requests.json','w') as f:\n",
    "#     json.dump(results,f)\n",
    "with open('1127con/requests.json','r') as f:\n",
    "    results=json.load(f)\n",
    "\n",
    "seg_map = {}\n",
    "for i in range(len(results)):\n",
    "    name = datas[i]['name']\n",
    "    try:\n",
    "        seg_map[name] = seg_text(results[i])\n",
    "    except:\n",
    "        seg_map[name] = results[i]"
   ]
  },
  {
   "cell_type": "code",
   "execution_count": 34,
   "metadata": {},
   "outputs": [],
   "source": [
    "with open('1127con/seg_map.json','w') as f:\n",
    "    json.dump(seg_map,f)"
   ]
  },
  {
   "cell_type": "markdown",
   "metadata": {},
   "source": [
    "# 回写第一个二分分割，首先需要加上一个自动注释器"
   ]
  },
  {
   "cell_type": "code",
   "execution_count": 14,
   "metadata": {},
   "outputs": [],
   "source": [
    "def auto_comment(text):\n",
    "    lines = text.splitlines()\n",
    "    new_lines=[]\n",
    "    for line in lines:\n",
    "        if line.startswith('--'):\n",
    "            new_lines.append(line)\n",
    "        elif line.strip()=='':\n",
    "            continue\n",
    "        else:\n",
    "            new_lines.append('-- '+line)\n",
    "    return '\\n'.join(new_lines)"
   ]
  },
  {
   "cell_type": "code",
   "execution_count": 15,
   "metadata": {},
   "outputs": [],
   "source": [
    "new_ds_1=[]\n",
    "for i in range(len(datas)):\n",
    "    new_obj=datas[i].copy()\n",
    "    new_obj2=datas[i].copy()\n",
    "    new_obj['formal_statement']+='\\n%s\\n'%auto_comment(new_con1[i][0])\n",
    "    new_obj2['formal_statement']+='\\n%s\\n'%auto_comment(new_con1[i][1])\n",
    "    new_obj['kname']=new_obj['name']+'F'\n",
    "    new_obj2['kname']=new_obj['name']+'B'\n",
    "    new_ds_1.append(new_obj)\n",
    "    new_ds_1.append(new_obj2)"
   ]
  },
  {
   "cell_type": "code",
   "execution_count": 28,
   "metadata": {},
   "outputs": [],
   "source": [
    "new_ds_2=[]\n",
    "for i in range(len(datas)):\n",
    "    if type(new_con2[i])==str:\n",
    "        new_obj=datas[i].copy()\n",
    "        new_obj['formal_statement']+='\\n%s\\n'%auto_comment(new_con2[i])\n",
    "        new_obj['kname']=new_obj['name']\n",
    "        new_ds_2.append(new_obj)\n",
    "        continue\n",
    "    for j in range(len(new_con2[i])):\n",
    "        new_obj=datas[i].copy()\n",
    "        new_obj['formal_statement']+='\\n%s\\n'%auto_comment(new_con2[i][j]['hint'])\n",
    "        new_obj['kname']=new_obj['name']+'_%d_%d'%(new_con2[i][j]['id1'],new_con2[i][j]['id0'])\n",
    "        new_obj['src_hints']=seg_text(results[i])\n",
    "        new_ds_2.append(new_obj)"
   ]
  },
  {
   "cell_type": "code",
   "execution_count": 17,
   "metadata": {},
   "outputs": [
    {
     "data": {
      "text/plain": [
       "{'name': '2000_AIME_I_10',\n",
       " 'split': 'test',\n",
       " 'informal_prefix': 'A sequence of numbers $x_{1},x_{2},x_{3},\\\\ldots,x_{100}$ has the property that, for every integer $k$ between $1$ and $100,$ inclusive, the number $x_{k}$ is $k$ less than the sum of the other $99$ numbers. Given that $x_{50} = \\\\frac{m}{n}$, where $m$ and $n$ are relatively prime positive integers, find $m + n$.',\n",
       " 'formal_statement': 'import Mathlib\\nopen BigOperators Real Nat Topology Rat\\ntheorem aime_problem_934 (m n : ℕ) (x : Fin 100 → ℚ)\\n  (hmn_pos : m > 0 ∧ n > 0)\\n  (h_coprime : Nat.Coprime m n)\\n  (h_seq : ∀ k : Fin 100, \\n    x k = (∑ i : Fin 100, x i) - x k - k)\\n  (h_x50 : x ⟨49, ⟩ = m / n) :\\n  m + n = 173 := by\\n  \\n-- 1. **Prove the Expression \\\\(\\\\sum_{i=1}^{100} x_i = 2x_k + k\\\\) for All \\\\( k \\\\):**\\n--    The problem states: for each \\\\( k \\\\), \\n--    \\\\[\\n--    x_k = \\\\sum_{i=1, i \\\\neq k}^{100} x_i - k\\n--    \\\\]\\n--    which can be rewritten as:\\n--    \\\\[\\n--    \\\\sum_{i=1, i \\\\neq k}^{100} x_i = x_k + k\\n--    \\\\]\\n--    Thus, the total sum of all the numbers is:\\n--    \\\\[\\n--    \\\\sum_{i=1}^{100} x_i = x_k + \\\\sum_{i=1, i \\\\neq k}^{100} x_i = x_k + (x_k + k) = 2x_k + k\\n--    \\\\]\\n--    Hence, this equation holds for all \\\\( k \\\\).\\n-- 2. **Use \\\\( x_{50} = \\\\frac{m}{n} \\\\) to Find an Expression for \\\\(\\\\sum_{i=1}^{100} x_i\\\\):**\\n--    By setting \\\\( k = 50 \\\\) in the formula from step 1:\\n--    \\\\[\\n--    \\\\sum_{i=1}^{100} x_i = 2x_{50} + 50 = 2\\\\left(\\\\frac{m}{n}\\\\right) + 50 = \\\\frac{2m}{n} + 50\\n--    \\\\]\\n--    Therefore, the entire sum: \\n--    \\\\[\\n--    S = \\\\frac{2m}{n} + 50\\n--    \\\\]\\n-- 3. **Establish a Relation Between \\\\(\\\\sum_{i=1}^{100} x_i\\\\) and \\\\(m, n\\\\):**\\n--    Similarly, apply the formula for \\\\( k = 1 \\\\):\\n--    \\\\[\\n--    \\\\sum_{i=1}^{100} x_i = 2x_1 + 1\\n--    \\\\]\\n--    This implies that the expression for the total sum is consistent for all \\\\( k \\\\). Hence, equate the two expressions:\\n--    \\\\[\\n--    2x_1 + 1 = \\\\frac{2m}{n} + 50\\n--    \\\\]\\n-- 4. **Prove Constraints Since \\\\( m \\\\) and \\\\( n \\\\) Are Coprime:**\\n--    The total \\\\( S = 2x_{50} + 50\\\\) suggests that it should also hold the formula for another \\\\( x_k \\\\). Solving the equation for these conditions may lead to specific constraints. For \\\\( x_1: 2x_1 + 1 \\\\), clear the denominators:\\n--    \\\\[\\n--    n(2x_1 + 1) = 2m + 50n\\n--    \\\\]\\n--    Since \\\\( x_1 \\\\) is expressed in terms of fractions, solving for integers (i.e., in coprime situations) results in \\\\( n \\\\) needing to divide remaining constants.\\n-- 5. Substitute known expressions into the original sequence conditions to find specific values or ratios.\\n-- 6. Verify that these expressions and constraints imply \\\\( m + n = 173 \\\\).\\n',\n",
       " 'goal': 'm + n = 173',\n",
       " 'header': '',\n",
       " 'kname': '2000_AIME_I_10_4_5'}"
      ]
     },
     "execution_count": 17,
     "metadata": {},
     "output_type": "execute_result"
    }
   ],
   "source": [
    "new_obj"
   ]
  },
  {
   "cell_type": "code",
   "execution_count": 18,
   "metadata": {},
   "outputs": [
    {
     "data": {
      "text/plain": [
       "['\\n1. **Prove the Expression \\\\(\\\\sum_{i=1}^{100} x_i = 2x_k + k\\\\) for All \\\\( k \\\\):**\\n\\n   The problem states: for each \\\\( k \\\\), \\n\\n   \\\\[\\n   x_k = \\\\sum_{i=1, i \\\\neq k}^{100} x_i - k\\n   \\\\]\\n\\n   which can be rewritten as:\\n\\n   \\\\[\\n   \\\\sum_{i=1, i \\\\neq k}^{100} x_i = x_k + k\\n   \\\\]\\n\\n   Thus, the total sum of all the numbers is:\\n\\n   \\\\[\\n   \\\\sum_{i=1}^{100} x_i = x_k + \\\\sum_{i=1, i \\\\neq k}^{100} x_i = x_k + (x_k + k) = 2x_k + k\\n   \\\\]\\n\\n   Hence, this equation holds for all \\\\( k \\\\).\\n',\n",
       " '\\n2. **Use \\\\( x_{50} = \\\\frac{m}{n} \\\\) to Find an Expression for \\\\(\\\\sum_{i=1}^{100} x_i\\\\):**\\n\\n   By setting \\\\( k = 50 \\\\) in the formula from step 1:\\n\\n   \\\\[\\n   \\\\sum_{i=1}^{100} x_i = 2x_{50} + 50 = 2\\\\left(\\\\frac{m}{n}\\\\right) + 50 = \\\\frac{2m}{n} + 50\\n   \\\\]\\n\\n   Therefore, the entire sum: \\n\\n   \\\\[\\n   S = \\\\frac{2m}{n} + 50\\n   \\\\]\\n',\n",
       " '\\n3. **Establish a Relation Between \\\\(\\\\sum_{i=1}^{100} x_i\\\\) and \\\\(m, n\\\\):**\\n\\n   Similarly, apply the formula for \\\\( k = 1 \\\\):\\n\\n   \\\\[\\n   \\\\sum_{i=1}^{100} x_i = 2x_1 + 1\\n   \\\\]\\n\\n   This implies that the expression for the total sum is consistent for all \\\\( k \\\\). Hence, equate the two expressions:\\n\\n   \\\\[\\n   2x_1 + 1 = \\\\frac{2m}{n} + 50\\n   \\\\]\\n',\n",
       " '\\n4. **Prove Constraints Since \\\\( m \\\\) and \\\\( n \\\\) Are Coprime:**\\n\\n   The total \\\\( S = 2x_{50} + 50\\\\) suggests that it should also hold the formula for another \\\\( x_k \\\\). Solving the equation for these conditions may lead to specific constraints. For \\\\( x_1: 2x_1 + 1 \\\\), clear the denominators:\\n\\n   \\\\[\\n   n(2x_1 + 1) = 2m + 50n\\n   \\\\]\\n\\n   Since \\\\( x_1 \\\\) is expressed in terms of fractions, solving for integers (i.e., in coprime situations) results in \\\\( n \\\\) needing to divide remaining constants.\\n',\n",
       " '\\n5. **Substitute Known Expressions into Original Sequence Conditions:**\\n\\n   To find specific values, equate with another number: say \\\\( x_{100} \\\\):\\n\\n   \\\\[\\n   2x_{100} + 100 = \\\\frac{2m}{n} + 50\\n   \\\\]\\n\\n   And repeat for a suitable \\\\( k \\\\) where potential common values might arise (e.g., simplify other identities).\\n',\n",
       " '\\n6. **Verify Expressions Imply \\\\( m + n = 173 \\\\):**\\n\\n   Solving these congruences, assume:\\n\\n   \\\\[\\n   100x_{50} = 50 \\\\mod 100\\n   \\\\]\\n\\n   Sum calculations \\\\( S = 100x_{50} \\\\implies 100(\\\\frac{m}{n}) \\\\) equate to form manageable expressions—guide where testing \\\\( x_k \\\\) equates constants managing \\\\( \\\\text{gcd}(m, n) = 1 \\\\) breaks into numerically feasible actions.\\n\\nFinally, iteratively calculate established identities:\\n\\n   Given \\\\( 2m/n = 200 - \\\\text{indices sum over } 100 \\\\equiv 2m = 123n, \\\\) work through:\\n\\n   \\\\[\\n   m = 123n/2\\n   \\\\]\\n\\nFrom hypotheses upon interim relations, test rationality like bounds equate:\\n\\n   \\\\[\\n   n = 2 \\\\rightarrow m = 123, \\\\quad m = 173 = m+n\\n   \\\\]\\n\\n Confirm balance on explicit ratio calculations that insist on set coprime properties. Testing plausible sequence solutions ensures \\\\( m+n = 173 \\\\) within these confirmations. Thus ending with:\\n\\n   \\\\[\\n   \\\\boxed{173}\\n   \\\\]']"
      ]
     },
     "execution_count": 18,
     "metadata": {},
     "output_type": "execute_result"
    }
   ],
   "source": [
    "seg_text(results[i])"
   ]
  },
  {
   "cell_type": "code",
   "execution_count": 19,
   "metadata": {},
   "outputs": [],
   "source": [
    "#根据skip_list 进行过滤\n",
    "with open('1127con/skip_list.json','r') as f:\n",
    "    skip_list=json.load(f)"
   ]
  },
  {
   "cell_type": "code",
   "execution_count": 20,
   "metadata": {},
   "outputs": [],
   "source": [
    "new1=[]\n",
    "for item in new_ds_1:\n",
    "    if item['name'] not in skip_list:\n",
    "        temp = item.copy()\n",
    "        temp ['name'] = temp['kname']\n",
    "        new1.append(temp)"
   ]
  },
  {
   "cell_type": "code",
   "execution_count": 29,
   "metadata": {},
   "outputs": [],
   "source": [
    "new2=[]\n",
    "for item in new_ds_2:\n",
    "    if item['name'] not in skip_list:\n",
    "        temp = item.copy()\n",
    "        temp ['name'] = temp['kname']\n",
    "        new2.append(temp)"
   ]
  },
  {
   "cell_type": "code",
   "execution_count": 22,
   "metadata": {},
   "outputs": [
    {
     "data": {
      "text/plain": [
       "6868"
      ]
     },
     "execution_count": 22,
     "metadata": {},
     "output_type": "execute_result"
    }
   ],
   "source": [
    "len(new2)"
   ]
  },
  {
   "cell_type": "code",
   "execution_count": 30,
   "metadata": {},
   "outputs": [],
   "source": [
    "#保存数据\n",
    "with open('1127con/aime_amc_new_con1.jsonl','w') as f:\n",
    "    for item in new1:\n",
    "        f.write(json.dumps(item)+'\\n')\n",
    "with open('1127con/aime_amc_new_con2.jsonl','w') as f:\n",
    "    for item in new2:\n",
    "        f.write(json.dumps(item)+'\\n')"
   ]
  }
 ],
 "metadata": {
  "kernelspec": {
   "display_name": "ATP_Lean",
   "language": "python",
   "name": "python3"
  },
  "language_info": {
   "codemirror_mode": {
    "name": "ipython",
    "version": 3
   },
   "file_extension": ".py",
   "mimetype": "text/x-python",
   "name": "python",
   "nbconvert_exporter": "python",
   "pygments_lexer": "ipython3",
   "version": "3.10.14"
  }
 },
 "nbformat": 4,
 "nbformat_minor": 2
}
