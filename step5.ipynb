{
 "cells": [
  {
   "cell_type": "markdown",
   "metadata": {},
   "source": [
    "先切分数据为训练集和测试集"
   ]
  },
  {
   "cell_type": "code",
   "execution_count": 1,
   "metadata": {},
   "outputs": [],
   "source": [
    "import json\n",
    "datas=[]\n",
    "with open('aime_amc_new.jsonl','r',encoding='utf-8') as f:\n",
    "    lines=f.readlines()\n",
    "    for line in lines:\n",
    "        data=json.loads(line)\n",
    "        data['category']='aime_amc'\n",
    "        datas.append(data)\n",
    "datas2=[]\n",
    "with open('minif2f.jsonl','r',encoding='utf-8') as f:\n",
    "    lines=f.readlines()\n",
    "    for line in lines:\n",
    "        data=json.loads(line)\n",
    "        data['category']='minif2f'\n",
    "        datas2.append(data)\n",
    "with open('MATH.jsonl','r',encoding='utf-8') as f:\n",
    "    lines=f.readlines()\n",
    "    for line in lines:\n",
    "        data=json.loads(line)\n",
    "        data['category']='MATH'\n",
    "        datas2.append(data)"
   ]
  },
  {
   "cell_type": "code",
   "execution_count": 4,
   "metadata": {},
   "outputs": [
    {
     "data": {
      "text/plain": [
       "{'name': 'ToT_19',\n",
       " 'split': 'MATH',\n",
       " 'informal_prefix': 'Consider two positive integers $a$ and $b$ such that $a^{n+1} + b^{n+1}$ is divisible by $a^n + b^n$ for infi\\x0cnitely many positive integers $n$. Is it necessarily true that $a = b$?\\n\\n(Boris Frenkin)\\n Answer: $   \\\\text { No }  $\\n',\n",
       " 'formal_statement': 'theorem frenkin_problem :\\n  ¬ ∀ (a b : ℕ) (h_pos_a : a > 0) (h_pos_b : b > 0), \\n    (∀ (n : ℕ) (h_pos_n : n > 0), \\n      (a^(n+1) + b^(n+1)) % (a^n + b^n) = 0) → \\n    a = b := by\\n  -- The proof will use a counterexample to show the statement is false\\n   \\n',\n",
       " 'goal': 'n > 0), \\n      (a^(n+1) + b^(n+1)) % (a^n + b^n) = 0) → \\n    a = b',\n",
       " 'header': 'import Mathlib\\n',\n",
       " 'domain': ['Mathematics -> Algebra -> Intermediate Algebra -> Exponential Functions',\n",
       "  'Mathematics -> Number Theory -> Divisibility -> Other'],\n",
       " 'difficulty': 6.0,\n",
       " 'problem': 'Consider two positive integers $a$ and $b$ such that $a^{n+1} + b^{n+1}$ is divisible by $a^n + b^n$ for infi\\x0cnitely many positive integers $n$. Is it necessarily true that $a = b$?\\n\\n(Boris Frenkin)',\n",
       " 'solution': \"\\nGiven two positive integers \\\\( a \\\\) and \\\\( b \\\\), we want to determine if \\\\( a^{n+1} + b^{n+1} \\\\) being divisible by \\\\( a^n + b^n \\\\) for infinitely many positive integers \\\\( n \\\\) implies \\\\( a = b \\\\).\\n\\nTo analyze this, let's consider the expression:\\n\\n\\\\[\\n\\\\frac{a^{n+1} + b^{n+1}}{a^n + b^n}\\n\\\\]\\n\\nExpanding the expression, we can rewrite it as:\\n\\n\\\\[\\n= \\\\frac{a \\\\cdot a^n + b \\\\cdot b^n}{a^n + b^n} = \\\\frac{a \\\\cdot a^n + b \\\\cdot b^n}{a^n + b^n}\\n\\\\]\\n\\nFor simplicity, let's assume \\\\( a \\\\neq b \\\\) and evaluate under what circumstances the divisibility might still hold for infinitely many values of \\\\( n \\\\). \\n\\nConsider a simpler case where \\\\( a = kb \\\\) for some integer \\\\( k \\\\). Then we have:\\n\\n\\\\[\\na^n = (kb)^n = k^n \\\\cdot b^n\\n\\\\]\\n\\nThus, the expression becomes:\\n\\n\\\\[\\n= \\\\frac{k^{n+1}b^{n+1} + b^{n+1}}{k^n b^n + b^n}\\n\\\\]\\n\\n\\\\[\\n= \\\\frac{b^{n+1}(k^{n+1} + 1)}{b^n(k^n + 1)} = b \\\\cdot \\\\frac{k^{n+1} + 1}{k^n + 1}\\n\\\\]\\n\\nNow, observe the expression \\\\(\\\\frac{k^{n+1} + 1}{k^n + 1}\\\\).\\n\\nNote that:\\n\\n\\\\[\\n\\\\frac{k^{n+1} + 1}{k^n + 1} \\\\approx k \\\\quad \\\\text{as}\\\\, n \\\\to \\\\infty\\n\\\\]\\n\\nIf \\\\( k = 1 \\\\), this reduces to:\\n\\n\\\\[\\n\\\\frac{2}{2} = 1\\n\\\\]\\n\\nThis indicates that for certain non-equal \\\\( a \\\\) and \\\\( b \\\\), such as when \\\\( a = \\\\text{const} \\\\times b \\\\) (where \\\\(\\\\text{const}\\\\) simplifies divisibility \\\\( [k = 1]\\\\)), the condition holds for infinitely many \\\\( n \\\\). Specifically, \\\\( a \\\\) does not need to be equal to \\\\( b \\\\) for the divisibility condition to be satisfied infinitely often.\\n\\nTherefore, it is not necessarily true that \\\\( a = b \\\\).\\n\\nHence, the answer to the question is:\\n\\\\[\\n\\\\boxed{\\\\text{No}}\\n\\\\]\\n\",\n",
       " 'answer': '$   \\\\text { No }  $',\n",
       " 'source': 'ToT',\n",
       " 'lean4': 'import Mathlib\\ntheorem frenkin_problem :\\n  ¬ ∀ (a b : ℕ) (h_pos_a : a > 0) (h_pos_b : b > 0), \\n    (∀ (n : ℕ) (h_pos_n : n > 0), \\n      (a^(n+1) + b^(n+1)) % (a^n + b^n) = 0) → \\n    a = b := by\\n  -- The proof will use a counterexample to show the statement is false\\n   sorry',\n",
       " 'category': 'MATH'}"
      ]
     },
     "execution_count": 4,
     "metadata": {},
     "output_type": "execute_result"
    }
   ],
   "source": []
  },
  {
   "cell_type": "code",
   "execution_count": 2,
   "metadata": {},
   "outputs": [],
   "source": [
    "datas.extend(datas2)\n",
    "test_name = []\n",
    "with open('MATH_TEST.jsonl','r',encoding='utf-8') as f:\n",
    "    lines=f.readlines()\n",
    "    for line in lines:\n",
    "        data=json.loads(line)\n",
    "        # if data['split']=='test':\n",
    "        test_name.append(data['name'])\n",
    "train = []\n",
    "for item in datas:\n",
    "    if item['name'] not in test_name:\n",
    "        train.append(item)\n"
   ]
  },
  {
   "cell_type": "code",
   "execution_count": 3,
   "metadata": {},
   "outputs": [],
   "source": [
    "with open('MATH_TRAIN.jsonl','w',encoding='utf-8') as f:\n",
    "    for data in train:\n",
    "        f.write(json.dumps(data,ensure_ascii=False)+'\\n')"
   ]
  },
  {
   "cell_type": "code",
   "execution_count": 40,
   "metadata": {},
   "outputs": [
    {
     "data": {
      "text/plain": [
       "961"
      ]
     },
     "execution_count": 40,
     "metadata": {},
     "output_type": "execute_result"
    }
   ],
   "source": [
    "len(datas)"
   ]
  },
  {
   "cell_type": "code",
   "execution_count": 2,
   "metadata": {},
   "outputs": [],
   "source": [
    "# 筛选出AIME和AMC的题目\n",
    "aime = []\n",
    "amc = []\n",
    "for data in datas:\n",
    "    if 'AIME' in data['name']:\n",
    "        aime.append(data)\n",
    "    if 'AMC' in data['name']:\n",
    "        amc.append(data)\n",
    "for data in datas2:\n",
    "    if 'aime' in data['name'] and data['split']=='test':\n",
    "        aime.append(data)\n",
    "    if 'amc' in data['name'] and data['split']=='test':\n",
    "        amc.append(data)\n",
    "# 再从原始列表中移除这些题目\n",
    "for data in aime:\n",
    "    try:\n",
    "        datas.remove(data)\n",
    "    except:\n",
    "        datas2.remove(data)\n",
    "for data in amc:\n",
    "    try:\n",
    "        datas.remove(data)\n",
    "    except:\n",
    "        datas2.remove(data)"
   ]
  },
  {
   "cell_type": "code",
   "execution_count": 9,
   "metadata": {},
   "outputs": [],
   "source": [
    "#构建测试集\n",
    "# 首先选skip_list，随机选一半\n",
    "import random\n",
    "random.seed(0)"
   ]
  },
  {
   "cell_type": "code",
   "execution_count": 10,
   "metadata": {},
   "outputs": [],
   "source": [
    "with open('new_dataset/our_Model_1024shot.json','r',encoding='utf-8') as f:\n",
    "    our_Model=json.load(f)\n",
    "    our_Model = [data for data in our_Model if data['success'][\"our_Model_1024shot\"]]"
   ]
  },
  {
   "cell_type": "code",
   "execution_count": 11,
   "metadata": {},
   "outputs": [],
   "source": [
    "# 从our_Model中选出一半题目\n",
    "random.shuffle(our_Model)\n",
    "our_Model=our_Model[:int(len(our_Model)/2)]\n",
    "our_names = [data['name'] for data in our_Model]"
   ]
  },
  {
   "cell_type": "code",
   "execution_count": 12,
   "metadata": {},
   "outputs": [
    {
     "name": "stdout",
     "output_type": "stream",
     "text": [
      "51\n"
     ]
    }
   ],
   "source": [
    "print(len(our_Model))"
   ]
  },
  {
   "cell_type": "code",
   "execution_count": 13,
   "metadata": {},
   "outputs": [
    {
     "name": "stdout",
     "output_type": "stream",
     "text": [
      "8\n",
      "43\n"
     ]
    }
   ],
   "source": [
    "AIME_TEST=[]\n",
    "AMC_TEST=[]\n",
    "TEST=[]\n",
    "for data in aime:\n",
    "    if data['name'] in our_names:\n",
    "        AIME_TEST.append(data['name'])\n",
    "        TEST.append(data)\n",
    "for data in amc:\n",
    "    if data['name'] in our_names:\n",
    "        AMC_TEST.append(data['name'])\n",
    "        TEST.append(data)\n",
    "# 查看已经选了多少\n",
    "print(len(AIME_TEST))\n",
    "print(len(AMC_TEST))"
   ]
  },
  {
   "cell_type": "code",
   "execution_count": 14,
   "metadata": {},
   "outputs": [],
   "source": [
    "# 从剩下的AMC和AIME中选取，直到AIME达到120，AMC达到240\n",
    "random.shuffle(aime)\n",
    "random.shuffle(amc)\n",
    "for data in aime:\n",
    "    if len(AIME_TEST)<120 and data['name'] not in AIME_TEST:\n",
    "        AIME_TEST.append(data)\n",
    "        TEST.append(data)\n",
    "for data in amc:\n",
    "    if len(AMC_TEST)<240 and data['name'] not in AMC_TEST:\n",
    "        AMC_TEST.append(data)\n",
    "        TEST.append(data)\n"
   ]
  },
  {
   "cell_type": "code",
   "execution_count": 15,
   "metadata": {},
   "outputs": [],
   "source": [
    "GTEST=AIME_TEST+AMC_TEST\n",
    "with open('proof_append/TEST.json','w',encoding='utf-8') as f:\n",
    "    json.dump(GTEST,f,ensure_ascii=False,indent=4)"
   ]
  },
  {
   "cell_type": "code",
   "execution_count": 16,
   "metadata": {},
   "outputs": [],
   "source": [
    "# 导出jsonl\n",
    "with open('MATH_TEST.jsonl','w',encoding='utf-8') as f:\n",
    "    for data in TEST:\n",
    "        f.write(json.dumps(data,ensure_ascii=False)+'\\n')"
   ]
  }
 ],
 "metadata": {
  "kernelspec": {
   "display_name": "ATP_Lean",
   "language": "python",
   "name": "python3"
  },
  "language_info": {
   "codemirror_mode": {
    "name": "ipython",
    "version": 3
   },
   "file_extension": ".py",
   "mimetype": "text/x-python",
   "name": "python",
   "nbconvert_exporter": "python",
   "pygments_lexer": "ipython3",
   "version": "3.10.14"
  }
 },
 "nbformat": 4,
 "nbformat_minor": 2
}
