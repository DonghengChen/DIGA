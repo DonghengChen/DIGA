{
 "cells": [
  {
   "cell_type": "markdown",
   "metadata": {},
   "source": [
    "正式论文实验：构造并使用router"
   ]
  },
  {
   "cell_type": "code",
   "execution_count": 40,
   "metadata": {},
   "outputs": [],
   "source": [
    "import json\n",
    "datas=[]\n",
    "with open('MATH_TEST.jsonl','r',encoding='utf-8') as f:\n",
    "    lines=f.readlines()\n",
    "    for line in lines:\n",
    "        data=json.loads(line)\n",
    "        # if data['split']=='test':\n",
    "        datas.append(data)\n",
    "datas2=[]\n",
    "with open('final_data/MATH_TEST_LATEX_0.jsonl','r',encoding='utf-8') as f:\n",
    "    lines=f.readlines()\n",
    "    for line in lines:\n",
    "        data=json.loads(line)\n",
    "        # if data['split']=='test':\n",
    "        datas2.append(data)"
   ]
  },
  {
   "cell_type": "code",
   "execution_count": 42,
   "metadata": {},
   "outputs": [],
   "source": [
    "import re\n",
    "# 根据编号进行分组\n",
    "# 正则表达式匹配编号和随后的文本\n",
    "def seg_text(text):\n",
    "    pattern = r'\\[\\d+\\].*?(?=\\n\\[|\\Z)'\n",
    "    matches = re.finditer(pattern, text, re.DOTALL)\n",
    "    match_list = [m.group() for m in matches]\n",
    "    return match_list\n"
   ]
  },
  {
   "cell_type": "code",
   "execution_count": 41,
   "metadata": {},
   "outputs": [],
   "source": [
    "# 提取latex提示词\n",
    "latex=[]\n",
    "for i in range(len(datas2)):\n",
    "    latex.append(datas2[i]['latex'])"
   ]
  },
  {
   "cell_type": "code",
   "execution_count": 43,
   "metadata": {},
   "outputs": [
    {
     "data": {
      "text/plain": [
       "['[1] Define the set comprehension condition precisely',\n",
       " '[2] Understand the floor division constraints',\n",
       " '[3] Count the number of elements in the set that satisfy the condition',\n",
       " '[4] Verify that the constraint creates unique divisions for 4, 5, 6',\n",
       " '[5] Determine the conditions for uniqueness',\n",
       " '[6] Check if the set count matches the expected 80',\n",
       " '[7] Develop a systematic method to count these unique numbers',\n",
       " '[8] Ensure the range constraint of 1 ≤ n ≤ 600']"
      ]
     },
     "execution_count": 43,
     "metadata": {},
     "output_type": "execute_result"
    }
   ],
   "source": [
    "import random\n",
    "seg_text(datas2[random.randint(0,len(latex)-1)]['latex'])"
   ]
  },
  {
   "cell_type": "code",
   "execution_count": 45,
   "metadata": {},
   "outputs": [],
   "source": [
    "#以下是gpt构造器_单个subgoal生成\n",
    "import openai\n",
    "\n",
    "import json\n",
    "\n",
    "save_pth='new_dataset/'\n",
    "\n",
    "class gpt_interface:\n",
    "    def __init__(self):\n",
    "        openai.api_base = \"https://api2.aigcbest.top/v1\"\n",
    "        self.client = openai.Client()\n",
    "        try:\n",
    "            with open(save_pth+'history_2.json','r') as f:\n",
    "                self.history2=json.load(f)\n",
    "        except:\n",
    "            self.history2={}\n",
    "        try:\n",
    "            with open(save_pth+'history_3.json','r') as f:\n",
    "                self.history3=json.load(f)\n",
    "\n",
    "        except:\n",
    "            \n",
    "            self.history3 = {}\n",
    "    def get_response(self,question,id,replay=False):\n",
    "        \n",
    "        messages=[\n",
    "            {\n",
    "                \"role\": \"system\",\n",
    "                \"content\": '''\n",
    "You are a math assistant. Please give me all the subgoals of the proof based on the question below. \n",
    "You can analysis the probelm as you want, but you must give this kind of output in the end. \n",
    "You should only output the equations of the subgoal, don't use too many text\n",
    "If the subgoal is too simple, you can skip it.\n",
    "Here is an example:\n",
    "input : \n",
    "theorem aime_problem (hx : x > 1) (hy : y > 1) \n",
    "  (h1 : (log (y ^ x)) / (log x) = 10)\n",
    "  (h2 : (log (x ^ (4 * y))) / (log y) = 10) :\n",
    "  x * y = 25 := by\n",
    "\n",
    "output:\n",
    "Subgoals:\n",
    "```subgoals\n",
    "[1] log x > 0\n",
    "[2] log y > 0\n",
    "[3] (x * log y) / (log x) = 10\n",
    "[4] (4 * y * log x) / (log y) = 10\n",
    "[5] ((x * log y) / (log x)) * ((4 * y * log x) / (log y)) = 100\n",
    "[6] 4 * x * y = 100\n",
    "```\n",
    "Now, please give me all the subgoals of this problem:\n",
    "'''\n",
    "            },\n",
    "            {\n",
    "                \"role\": \"user\",\n",
    "                \"content\": question\n",
    "            }\n",
    "        ]\n",
    "        if question in self.history2 and not replay:\n",
    "            messages.append(\n",
    "             {   \"role\": \"system\",\n",
    "                \"content\": self.history2[question]})\n",
    "            return messages,id\n",
    "        #不在，或者没开启强制重放，则调用gpt\n",
    "\n",
    "        response = self.client.chat.completions.create(\n",
    "        model=[\"claude-3-5-haiku-20241022\",\"gpt-4o\",'claude-3-haiku-20240307'][0],\n",
    "        temperature=0,\n",
    "        messages=messages\n",
    "    )\n",
    "        result_str=(response.choices[0].message.content)\n",
    "        self.history2[question]=result_str\n",
    "        messages.append(\n",
    "            {   \"role\": \"system\",\n",
    "                \"content\": result_str})\n",
    "        self.save()\n",
    "        return messages,id\n",
    "    def get_details(self,message,indexs,id):\n",
    "        key = message[-1]['content']+str(indexs)\n",
    "        if key in self.history3:\n",
    "            return self.history3[key],id\n",
    "        message.append({'role':'user','content':'''\n",
    "Now you need to help me refine the proof for the following subgoals.\n",
    "You do not need to give lean code. Just give me the refined proof for the subgoal.                        \n",
    " Here is an example:\n",
    "input: refine [6] 4 * x * y = 100 \n",
    "output:\n",
    "```                       \n",
    "[1] (4 * x * y) * ((log y * log x) / (log x * log y)) = 100\n",
    "[2] (log y * log x) / (log x * log y) = 1\n",
    "[3] (4 * x * y) * (1) = 100\n",
    "```\n",
    "Now, please help me refine the proof for the following subgoals: %d.                            \n",
    "                        '''%indexs})\n",
    "        response = self.client.chat.completions.create(\n",
    "        model=[\"claude-3-5-haiku-20241022\",\"gpt-4o\",'claude-3-haiku-20240307'][0],\n",
    "        messages=message\n",
    "    )\n",
    "        result_str=(response.choices[0].message.content)\n",
    "        \n",
    "        self.history3[key]=result_str\n",
    "        self.save()\n",
    "        return result_str,id\n",
    "\n",
    "\n",
    "    def save(self):\n",
    "      with open(save_pth+'history_2.json','w') as f:\n",
    "          json.dump(self.history2,f)\n",
    "      with open(save_pth+'history_3.json','w') as f:\n",
    "          json.dump(self.history3,f)"
   ]
  },
  {
   "cell_type": "code",
   "execution_count": 46,
   "metadata": {},
   "outputs": [],
   "source": [
    "#以下是多线程构造器\n",
    "import concurrent.futures\n",
    "def parallel_requests(func,prompts_list,max_process=16):\n",
    "    results = [0]*len(prompts_list)\n",
    "    # 使用线程池来并行处理请求\n",
    "    with concurrent.futures.ThreadPoolExecutor(max_workers=max_process) as executor:\n",
    "        # 提交所有的请求到线程池\n",
    "        futures = [executor.submit(func,item[0],item[1],id) for id,item in enumerate(prompts_list)]\n",
    "        # 收集所有请求的结果\n",
    "        for future in concurrent.futures.as_completed(futures):\n",
    "            try:\n",
    "                result,id = future.result()\n",
    "                results[id]= result\n",
    "            except Exception as exc:\n",
    "                pass\n",
    "\n",
    "    return results"
   ]
  },
  {
   "cell_type": "code",
   "execution_count": 47,
   "metadata": {},
   "outputs": [],
   "source": [
    "test1000 = gpt_interface()"
   ]
  },
  {
   "cell_type": "code",
   "execution_count": 48,
   "metadata": {},
   "outputs": [],
   "source": [
    "with open('/home/limengze/chen_dongheng/pipeline/new_dataset/MATH_TEST.jsonl', 'r') as f:\n",
    "    data2 = [json.loads(l) for l in f.readlines()]\n",
    "with open('/home/limengze/chen_dongheng/pipeline/final_data/MATH_TEST_LATEX_0.jsonl', 'r') as f:\n",
    "    data = [json.loads(l) for l in f.readlines()]\n",
    "# 构造数据对\n",
    "#构造题目提问序列\n",
    "prompts=[]\n",
    "for item in data2:\n",
    "    a=item['formal_statement']\n",
    "    #去掉前两行\n",
    "    # if item['category']=='aime_amc':\n",
    "    #     a=a.split('\\n')[2:]\n",
    "    #     a='\\n'.join(a)\n",
    "    a=a.replace('import Mathlib\\nopen BigOperators Real Nat Topology Rat\\n','')\n",
    "    prompts.append(a)\n"
   ]
  },
  {
   "cell_type": "code",
   "execution_count": 10,
   "metadata": {},
   "outputs": [],
   "source": [
    "#构造请求序列\n",
    "refine = []\n",
    "for i in range(len(prompts)):\n",
    "    subgoal = data[i]['latex']\n",
    "    req=seg_text(subgoal)\n",
    "    for j in range(len(req)):\n",
    "        message = test1000.get_response(prompts[i],0)[0]\n",
    "        refine.append((message,j+1))\n"
   ]
  },
  {
   "cell_type": "code",
   "execution_count": 49,
   "metadata": {},
   "outputs": [
    {
     "data": {
      "text/plain": [
       "3267"
      ]
     },
     "execution_count": 49,
     "metadata": {},
     "output_type": "execute_result"
    }
   ],
   "source": [
    "len(refine)"
   ]
  },
  {
   "cell_type": "code",
   "execution_count": 30,
   "metadata": {},
   "outputs": [],
   "source": [
    "with open('/home/limengze/chen_dongheng/pipeline/final_data/refine_test_src.json','w') as f:\n",
    "    json.dump(refine,f)"
   ]
  },
  {
   "cell_type": "code",
   "execution_count": 50,
   "metadata": {},
   "outputs": [
    {
     "data": {
      "text/plain": [
       "3291"
      ]
     },
     "execution_count": 50,
     "metadata": {},
     "output_type": "execute_result"
    }
   ],
   "source": [
    "results = parallel_requests(test1000.get_details,refine,32)\n",
    "len(test1000.history3)"
   ]
  },
  {
   "cell_type": "code",
   "execution_count": 52,
   "metadata": {},
   "outputs": [
    {
     "name": "stderr",
     "output_type": "stream",
     "text": [
      "100%|██████████| 3267/3267 [00:00<00:00, 69223.85it/s]"
     ]
    },
    {
     "name": "stdout",
     "output_type": "stream",
     "text": [
      "651\n",
      "714\n",
      "1057\n",
      "1727\n",
      "1764\n",
      "1766\n",
      "2053\n",
      "2537\n",
      "3059\n",
      "3060\n",
      "3264\n"
     ]
    },
    {
     "name": "stderr",
     "output_type": "stream",
     "text": [
      "\n"
     ]
    }
   ],
   "source": [
    "import re\n",
    "from tqdm import tqdm\n",
    "for i in tqdm(range(len(results))):\n",
    "    if re.search(r'```(.*?)\\n(.*?)\\n```', results[i], re.DOTALL) == None:\n",
    "        # print(re.search(r'```(.*?)\\n(.*?)\\n```', results[i], re.DOTALL).group(2))\n",
    "        "
   ]
  },
  {
   "cell_type": "markdown",
   "metadata": {},
   "source": [
    "# 构造half_shot\n",
    "分成前半部分和后半部分，然后进行构造。"
   ]
  },
  {
   "cell_type": "code",
   "execution_count": 54,
   "metadata": {},
   "outputs": [],
   "source": [
    "def con2(a,b):\n",
    "    results=[]\n",
    "    for i in range(1,len(a)):\n",
    "        for j in range(i):\n",
    "            lena = int(j*len(a)/len(b))\n",
    "            lenb = int(i*len(b)/len(a))\n",
    "            con = a[:j]+[b[lena]]+a[j+1:i]+[b[lenb]]+a[i+1:]\n",
    "            hint=''.join(con)\n",
    "            results.append({'hint':hint,'id0':i,'id1':j})\n",
    "    return results"
   ]
  },
  {
   "cell_type": "code",
   "execution_count": 53,
   "metadata": {},
   "outputs": [],
   "source": [
    "# 构造1-n的幂集\n",
    "def powerset(n,maxn = 2):\n",
    "    res = []\n",
    "    for i in range(1<<n):\n",
    "        cur = []\n",
    "        for j in range(n):\n",
    "            if i & (1<<j):\n",
    "                cur.append(j)\n",
    "        if len(cur)<=maxn:\n",
    "            res.append(cur)\n",
    "    return res"
   ]
  },
  {
   "cell_type": "code",
   "execution_count": 58,
   "metadata": {},
   "outputs": [
    {
     "data": {
      "text/plain": [
       "[[], [0], [1], [0, 1], [2], [0, 2], [1, 2]]"
      ]
     },
     "execution_count": 58,
     "metadata": {},
     "output_type": "execute_result"
    }
   ],
   "source": []
  },
  {
   "cell_type": "code",
   "execution_count": 55,
   "metadata": {},
   "outputs": [
    {
     "ename": "AttributeError",
     "evalue": "'NoneType' object has no attribute 'group'",
     "output_type": "error",
     "traceback": [
      "\u001b[0;31m---------------------------------------------------------------------------\u001b[0m",
      "\u001b[0;31mAttributeError\u001b[0m                            Traceback (most recent call last)",
      "Cell \u001b[0;32mIn[55], line 13\u001b[0m\n\u001b[1;32m     11\u001b[0m plist2 \u001b[38;5;241m=\u001b[39m plist\u001b[38;5;241m.\u001b[39mcopy()\n\u001b[1;32m     12\u001b[0m \u001b[38;5;28;01mfor\u001b[39;00m j \u001b[38;5;129;01min\u001b[39;00m ss:\n\u001b[0;32m---> 13\u001b[0m     plist2[j] \u001b[38;5;241m=\u001b[39m \u001b[43mre\u001b[49m\u001b[38;5;241;43m.\u001b[39;49m\u001b[43msearch\u001b[49m\u001b[43m(\u001b[49m\u001b[38;5;124;43mr\u001b[39;49m\u001b[38;5;124;43m'\u001b[39;49m\u001b[38;5;124;43m```(.*?)\u001b[39;49m\u001b[38;5;124;43m\\\u001b[39;49m\u001b[38;5;124;43mn(.*?)\u001b[39;49m\u001b[38;5;124;43m\\\u001b[39;49m\u001b[38;5;124;43mn```\u001b[39;49m\u001b[38;5;124;43m'\u001b[39;49m\u001b[43m,\u001b[49m\u001b[43m \u001b[49m\u001b[43mrefine_results\u001b[49m\u001b[43m[\u001b[49m\u001b[43mj\u001b[49m\u001b[43m]\u001b[49m\u001b[43m,\u001b[49m\u001b[43m \u001b[49m\u001b[43mre\u001b[49m\u001b[38;5;241;43m.\u001b[39;49m\u001b[43mDOTALL\u001b[49m\u001b[43m)\u001b[49m\u001b[38;5;241;43m.\u001b[39;49m\u001b[43mgroup\u001b[49m(\u001b[38;5;241m2\u001b[39m)\n\u001b[1;32m     14\u001b[0m \u001b[38;5;66;03m# 拼合plist\u001b[39;00m\n\u001b[1;32m     15\u001b[0m slgItem \u001b[38;5;241m=\u001b[39m item\u001b[38;5;241m.\u001b[39mcopy()\n",
      "\u001b[0;31mAttributeError\u001b[0m: 'NoneType' object has no attribute 'group'"
     ]
    }
   ],
   "source": [
    "new_con2=[]\n",
    "id = 0\n",
    "for i,item in enumerate(data):\n",
    "    a=item['latex']\n",
    "    plist = seg_text(a)\n",
    "    refine_set = powerset(len(plist),2)\n",
    "    #裁切结果\n",
    "    refine_results = results[id:id+len(refine_set)]\n",
    "    # 逐个构造\n",
    "    for ss in refine_set:\n",
    "        plist2 = plist.copy()\n",
    "        for j in ss:\n",
    "            plist2[j] = re.search(r'```(.*?)\\n(.*?)\\n```', refine_results[j], re.DOTALL).group(2)\n",
    "        # 拼合plist\n",
    "        slgItem = item.copy()\n",
    "        new_name = item['name']+'#'+str(ss)\n",
    "        slgItem['name'] = new_name\n",
    "        slgItem['formal_statement'] = data2[i]['formal_statement']\n",
    "        # 融合提示词\n",
    "        subsgoals = slgItem['formal_statement']+'\\n'\n",
    "        lines = ('\\n'.join(plist2)).split('\\n')\n",
    "        for line in plist2:\n",
    "            temp = line[line.find(']')+1:]\n",
    "            subsgoals = subsgoals + '--' + temp + '\\n'\n",
    "        slgItem['formal_statement'] = subsgoals\n",
    "        new_con2.append(slgItem)\n",
    "\n",
    "    id+=len(plist)\n",
    "    "
   ]
  },
  {
   "cell_type": "code",
   "execution_count": 69,
   "metadata": {},
   "outputs": [],
   "source": [
    "# 将新的数据写入文件\n",
    "with open('final_data/MATH_TEST_REFINE_0.jsonl','w') as f:\n",
    "    for item in new_con2:\n",
    "        f.write(json.dumps(item)+'\\n')"
   ]
  },
  {
   "cell_type": "code",
   "execution_count": 87,
   "metadata": {},
   "outputs": [
    {
     "name": "stdout",
     "output_type": "stream",
     "text": [
      "import Mathlib\n",
      "open BigOperators Real Nat Topology Rat\n",
      "theorem remainder_problem (a : ℕ → ℕ) \n",
      "(h_def : ∀ n, a n = 6^n + 8^n) \n",
      "(h_mod : a 83 ≡ 35 [MOD 49]) : \n",
      "a 83 % 49 = 35 := by \n",
      "-- a 83 = 6^83 + 8^83          (by definition of function a)\n",
      "[2] Expand 6^83 = 6 * 6^82      (using exponent rule)\n",
      "[3] Expand 8^83 = 8 * 8^82      (using exponent rule)\n",
      "[4] Recursively break down 6^82 and 8^82 \n",
      "[5] Show that the expansion follows the pattern a(n) = 6^n + 8^n\n",
      "[6] Use computational verification or mathematical induction to confirm the equality\n",
      "-- Expand the definition of modular arithmetic\n",
      "[2] Use properties of exponentiation modulo a number\n",
      "[3] Break down 6^83 and 8^83 into their modular representations\n",
      "[4] Apply Euler's theorem or fermat's little theorem for modular exponentiation\n",
      "[5] Reduce the problem to finding (6^83 mod 49) and (8^83 mod 49)\n",
      "[6] Use computational techniques or properties of 49 (7^2) to simplify the calculation\n",
      "[7] Show that (6^83 mod 49) + (8^83 mod 49) = 35\n",
      "-- (6^83 % 49) + (8^83 % 49) ≡ 35 [MOD 49]\n",
      "-- (6^83 % 49) ≡ x [MOD 49]\n",
      "-- (8^83 % 49) ≡ y [MOD 49]\n",
      "-- x + y ≡ 35 [MOD 49]\n",
      "\n"
     ]
    }
   ],
   "source": [
    "print(new_con2[3]['formal_statement'])"
   ]
  },
  {
   "cell_type": "code",
   "execution_count": 54,
   "metadata": {},
   "outputs": [
    {
     "data": {
      "text/plain": [
       "359"
      ]
     },
     "execution_count": 54,
     "metadata": {},
     "output_type": "execute_result"
    }
   ],
   "source": [
    "i"
   ]
  },
  {
   "cell_type": "code",
   "execution_count": 32,
   "metadata": {},
   "outputs": [],
   "source": [
    "# with open('1127con/requests.json','w') as f:\n",
    "#     json.dump(results,f)\n",
    "with open('1127con/requests.json','r') as f:\n",
    "    results=json.load(f)\n",
    "\n",
    "seg_map = {}\n",
    "for i in range(len(results)):\n",
    "    name = datas[i]['name']\n",
    "    try:\n",
    "        seg_map[name] = seg_text(results[i])\n",
    "    except:\n",
    "        seg_map[name] = results[i]"
   ]
  },
  {
   "cell_type": "code",
   "execution_count": 34,
   "metadata": {},
   "outputs": [],
   "source": [
    "with open('1127con/seg_map.json','w') as f:\n",
    "    json.dump(seg_map,f)"
   ]
  },
  {
   "cell_type": "markdown",
   "metadata": {},
   "source": [
    "# 回写第一个二分分割，首先需要加上一个自动注释器"
   ]
  },
  {
   "cell_type": "code",
   "execution_count": 14,
   "metadata": {},
   "outputs": [],
   "source": [
    "def auto_comment(text):\n",
    "    lines = text.splitlines()\n",
    "    new_lines=[]\n",
    "    for line in lines:\n",
    "        if line.startswith('--'):\n",
    "            new_lines.append(line)\n",
    "        elif line.strip()=='':\n",
    "            continue\n",
    "        else:\n",
    "            new_lines.append('-- '+line)\n",
    "    return '\\n'.join(new_lines)"
   ]
  },
  {
   "cell_type": "code",
   "execution_count": 15,
   "metadata": {},
   "outputs": [],
   "source": [
    "new_ds_1=[]\n",
    "for i in range(len(datas)):\n",
    "    new_obj=datas[i].copy()\n",
    "    new_obj2=datas[i].copy()\n",
    "    new_obj['formal_statement']+='\\n%s\\n'%auto_comment(new_con1[i][0])\n",
    "    new_obj2['formal_statement']+='\\n%s\\n'%auto_comment(new_con1[i][1])\n",
    "    new_obj['kname']=new_obj['name']+'F'\n",
    "    new_obj2['kname']=new_obj['name']+'B'\n",
    "    new_ds_1.append(new_obj)\n",
    "    new_ds_1.append(new_obj2)"
   ]
  },
  {
   "cell_type": "code",
   "execution_count": 28,
   "metadata": {},
   "outputs": [],
   "source": [
    "new_ds_2=[]\n",
    "for i in range(len(datas)):\n",
    "    if type(new_con2[i])==str:\n",
    "        new_obj=datas[i].copy()\n",
    "        new_obj['formal_statement']+='\\n%s\\n'%auto_comment(new_con2[i])\n",
    "        new_obj['kname']=new_obj['name']\n",
    "        new_ds_2.append(new_obj)\n",
    "        continue\n",
    "    for j in range(len(new_con2[i])):\n",
    "        new_obj=datas[i].copy()\n",
    "        new_obj['formal_statement']+='\\n%s\\n'%auto_comment(new_con2[i][j]['hint'])\n",
    "        new_obj['kname']=new_obj['name']+'_%d_%d'%(new_con2[i][j]['id1'],new_con2[i][j]['id0'])\n",
    "        new_obj['src_hints']=seg_text(results[i])\n",
    "        new_ds_2.append(new_obj)"
   ]
  },
  {
   "cell_type": "code",
   "execution_count": 17,
   "metadata": {},
   "outputs": [
    {
     "data": {
      "text/plain": [
       "{'name': '2000_AIME_I_10',\n",
       " 'split': 'test',\n",
       " 'informal_prefix': 'A sequence of numbers $x_{1},x_{2},x_{3},\\\\ldots,x_{100}$ has the property that, for every integer $k$ between $1$ and $100,$ inclusive, the number $x_{k}$ is $k$ less than the sum of the other $99$ numbers. Given that $x_{50} = \\\\frac{m}{n}$, where $m$ and $n$ are relatively prime positive integers, find $m + n$.',\n",
       " 'formal_statement': 'import Mathlib\\nopen BigOperators Real Nat Topology Rat\\ntheorem aime_problem_934 (m n : ℕ) (x : Fin 100 → ℚ)\\n  (hmn_pos : m > 0 ∧ n > 0)\\n  (h_coprime : Nat.Coprime m n)\\n  (h_seq : ∀ k : Fin 100, \\n    x k = (∑ i : Fin 100, x i) - x k - k)\\n  (h_x50 : x ⟨49, ⟩ = m / n) :\\n  m + n = 173 := by\\n  \\n-- 1. **Prove the Expression \\\\(\\\\sum_{i=1}^{100} x_i = 2x_k + k\\\\) for All \\\\( k \\\\):**\\n--    The problem states: for each \\\\( k \\\\), \\n--    \\\\[\\n--    x_k = \\\\sum_{i=1, i \\\\neq k}^{100} x_i - k\\n--    \\\\]\\n--    which can be rewritten as:\\n--    \\\\[\\n--    \\\\sum_{i=1, i \\\\neq k}^{100} x_i = x_k + k\\n--    \\\\]\\n--    Thus, the total sum of all the numbers is:\\n--    \\\\[\\n--    \\\\sum_{i=1}^{100} x_i = x_k + \\\\sum_{i=1, i \\\\neq k}^{100} x_i = x_k + (x_k + k) = 2x_k + k\\n--    \\\\]\\n--    Hence, this equation holds for all \\\\( k \\\\).\\n-- 2. **Use \\\\( x_{50} = \\\\frac{m}{n} \\\\) to Find an Expression for \\\\(\\\\sum_{i=1}^{100} x_i\\\\):**\\n--    By setting \\\\( k = 50 \\\\) in the formula from step 1:\\n--    \\\\[\\n--    \\\\sum_{i=1}^{100} x_i = 2x_{50} + 50 = 2\\\\left(\\\\frac{m}{n}\\\\right) + 50 = \\\\frac{2m}{n} + 50\\n--    \\\\]\\n--    Therefore, the entire sum: \\n--    \\\\[\\n--    S = \\\\frac{2m}{n} + 50\\n--    \\\\]\\n-- 3. **Establish a Relation Between \\\\(\\\\sum_{i=1}^{100} x_i\\\\) and \\\\(m, n\\\\):**\\n--    Similarly, apply the formula for \\\\( k = 1 \\\\):\\n--    \\\\[\\n--    \\\\sum_{i=1}^{100} x_i = 2x_1 + 1\\n--    \\\\]\\n--    This implies that the expression for the total sum is consistent for all \\\\( k \\\\). Hence, equate the two expressions:\\n--    \\\\[\\n--    2x_1 + 1 = \\\\frac{2m}{n} + 50\\n--    \\\\]\\n-- 4. **Prove Constraints Since \\\\( m \\\\) and \\\\( n \\\\) Are Coprime:**\\n--    The total \\\\( S = 2x_{50} + 50\\\\) suggests that it should also hold the formula for another \\\\( x_k \\\\). Solving the equation for these conditions may lead to specific constraints. For \\\\( x_1: 2x_1 + 1 \\\\), clear the denominators:\\n--    \\\\[\\n--    n(2x_1 + 1) = 2m + 50n\\n--    \\\\]\\n--    Since \\\\( x_1 \\\\) is expressed in terms of fractions, solving for integers (i.e., in coprime situations) results in \\\\( n \\\\) needing to divide remaining constants.\\n-- 5. Substitute known expressions into the original sequence conditions to find specific values or ratios.\\n-- 6. Verify that these expressions and constraints imply \\\\( m + n = 173 \\\\).\\n',\n",
       " 'goal': 'm + n = 173',\n",
       " 'header': '',\n",
       " 'kname': '2000_AIME_I_10_4_5'}"
      ]
     },
     "execution_count": 17,
     "metadata": {},
     "output_type": "execute_result"
    }
   ],
   "source": [
    "new_obj"
   ]
  },
  {
   "cell_type": "code",
   "execution_count": 18,
   "metadata": {},
   "outputs": [
    {
     "data": {
      "text/plain": [
       "['\\n1. **Prove the Expression \\\\(\\\\sum_{i=1}^{100} x_i = 2x_k + k\\\\) for All \\\\( k \\\\):**\\n\\n   The problem states: for each \\\\( k \\\\), \\n\\n   \\\\[\\n   x_k = \\\\sum_{i=1, i \\\\neq k}^{100} x_i - k\\n   \\\\]\\n\\n   which can be rewritten as:\\n\\n   \\\\[\\n   \\\\sum_{i=1, i \\\\neq k}^{100} x_i = x_k + k\\n   \\\\]\\n\\n   Thus, the total sum of all the numbers is:\\n\\n   \\\\[\\n   \\\\sum_{i=1}^{100} x_i = x_k + \\\\sum_{i=1, i \\\\neq k}^{100} x_i = x_k + (x_k + k) = 2x_k + k\\n   \\\\]\\n\\n   Hence, this equation holds for all \\\\( k \\\\).\\n',\n",
       " '\\n2. **Use \\\\( x_{50} = \\\\frac{m}{n} \\\\) to Find an Expression for \\\\(\\\\sum_{i=1}^{100} x_i\\\\):**\\n\\n   By setting \\\\( k = 50 \\\\) in the formula from step 1:\\n\\n   \\\\[\\n   \\\\sum_{i=1}^{100} x_i = 2x_{50} + 50 = 2\\\\left(\\\\frac{m}{n}\\\\right) + 50 = \\\\frac{2m}{n} + 50\\n   \\\\]\\n\\n   Therefore, the entire sum: \\n\\n   \\\\[\\n   S = \\\\frac{2m}{n} + 50\\n   \\\\]\\n',\n",
       " '\\n3. **Establish a Relation Between \\\\(\\\\sum_{i=1}^{100} x_i\\\\) and \\\\(m, n\\\\):**\\n\\n   Similarly, apply the formula for \\\\( k = 1 \\\\):\\n\\n   \\\\[\\n   \\\\sum_{i=1}^{100} x_i = 2x_1 + 1\\n   \\\\]\\n\\n   This implies that the expression for the total sum is consistent for all \\\\( k \\\\). Hence, equate the two expressions:\\n\\n   \\\\[\\n   2x_1 + 1 = \\\\frac{2m}{n} + 50\\n   \\\\]\\n',\n",
       " '\\n4. **Prove Constraints Since \\\\( m \\\\) and \\\\( n \\\\) Are Coprime:**\\n\\n   The total \\\\( S = 2x_{50} + 50\\\\) suggests that it should also hold the formula for another \\\\( x_k \\\\). Solving the equation for these conditions may lead to specific constraints. For \\\\( x_1: 2x_1 + 1 \\\\), clear the denominators:\\n\\n   \\\\[\\n   n(2x_1 + 1) = 2m + 50n\\n   \\\\]\\n\\n   Since \\\\( x_1 \\\\) is expressed in terms of fractions, solving for integers (i.e., in coprime situations) results in \\\\( n \\\\) needing to divide remaining constants.\\n',\n",
       " '\\n5. **Substitute Known Expressions into Original Sequence Conditions:**\\n\\n   To find specific values, equate with another number: say \\\\( x_{100} \\\\):\\n\\n   \\\\[\\n   2x_{100} + 100 = \\\\frac{2m}{n} + 50\\n   \\\\]\\n\\n   And repeat for a suitable \\\\( k \\\\) where potential common values might arise (e.g., simplify other identities).\\n',\n",
       " '\\n6. **Verify Expressions Imply \\\\( m + n = 173 \\\\):**\\n\\n   Solving these congruences, assume:\\n\\n   \\\\[\\n   100x_{50} = 50 \\\\mod 100\\n   \\\\]\\n\\n   Sum calculations \\\\( S = 100x_{50} \\\\implies 100(\\\\frac{m}{n}) \\\\) equate to form manageable expressions—guide where testing \\\\( x_k \\\\) equates constants managing \\\\( \\\\text{gcd}(m, n) = 1 \\\\) breaks into numerically feasible actions.\\n\\nFinally, iteratively calculate established identities:\\n\\n   Given \\\\( 2m/n = 200 - \\\\text{indices sum over } 100 \\\\equiv 2m = 123n, \\\\) work through:\\n\\n   \\\\[\\n   m = 123n/2\\n   \\\\]\\n\\nFrom hypotheses upon interim relations, test rationality like bounds equate:\\n\\n   \\\\[\\n   n = 2 \\\\rightarrow m = 123, \\\\quad m = 173 = m+n\\n   \\\\]\\n\\n Confirm balance on explicit ratio calculations that insist on set coprime properties. Testing plausible sequence solutions ensures \\\\( m+n = 173 \\\\) within these confirmations. Thus ending with:\\n\\n   \\\\[\\n   \\\\boxed{173}\\n   \\\\]']"
      ]
     },
     "execution_count": 18,
     "metadata": {},
     "output_type": "execute_result"
    }
   ],
   "source": [
    "seg_text(results[i])"
   ]
  },
  {
   "cell_type": "code",
   "execution_count": 19,
   "metadata": {},
   "outputs": [],
   "source": [
    "#根据skip_list 进行过滤\n",
    "with open('1127con/skip_list.json','r') as f:\n",
    "    skip_list=json.load(f)"
   ]
  },
  {
   "cell_type": "code",
   "execution_count": 20,
   "metadata": {},
   "outputs": [],
   "source": [
    "new1=[]\n",
    "for item in new_ds_1:\n",
    "    if item['name'] not in skip_list:\n",
    "        temp = item.copy()\n",
    "        temp ['name'] = temp['kname']\n",
    "        new1.append(temp)"
   ]
  },
  {
   "cell_type": "code",
   "execution_count": 29,
   "metadata": {},
   "outputs": [],
   "source": [
    "new2=[]\n",
    "for item in new_ds_2:\n",
    "    if item['name'] not in skip_list:\n",
    "        temp = item.copy()\n",
    "        temp ['name'] = temp['kname']\n",
    "        new2.append(temp)"
   ]
  },
  {
   "cell_type": "code",
   "execution_count": 22,
   "metadata": {},
   "outputs": [
    {
     "data": {
      "text/plain": [
       "6868"
      ]
     },
     "execution_count": 22,
     "metadata": {},
     "output_type": "execute_result"
    }
   ],
   "source": [
    "len(new2)"
   ]
  },
  {
   "cell_type": "code",
   "execution_count": 30,
   "metadata": {},
   "outputs": [],
   "source": [
    "#保存数据\n",
    "with open('1127con/aime_amc_new_con1.jsonl','w') as f:\n",
    "    for item in new1:\n",
    "        f.write(json.dumps(item)+'\\n')\n",
    "with open('1127con/aime_amc_new_con2.jsonl','w') as f:\n",
    "    for item in new2:\n",
    "        f.write(json.dumps(item)+'\\n')"
   ]
  }
 ],
 "metadata": {
  "kernelspec": {
   "display_name": "ATP_Lean",
   "language": "python",
   "name": "python3"
  },
  "language_info": {
   "codemirror_mode": {
    "name": "ipython",
    "version": 3
   },
   "file_extension": ".py",
   "mimetype": "text/x-python",
   "name": "python",
   "nbconvert_exporter": "python",
   "pygments_lexer": "ipython3",
   "version": "3.10.14"
  }
 },
 "nbformat": 4,
 "nbformat_minor": 2
}
